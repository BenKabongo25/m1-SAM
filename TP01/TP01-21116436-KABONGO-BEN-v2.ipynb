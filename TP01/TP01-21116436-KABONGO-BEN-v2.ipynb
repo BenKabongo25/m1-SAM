{
 "cells": [
  {
   "cell_type": "markdown",
   "metadata": {
    "id": "vZzLUr_l_Wfb"
   },
   "source": [
    "# TP 1 et 2 : Accès aux données avec index \n",
    "SAM, sujet pour étudiants\n",
    "\n",
    "date de modification : 01/02/2023\n",
    "\n",
    "NOM: **KABONGO**\n",
    "\n",
    "Prénom: **Ben**"
   ]
  },
  {
   "cell_type": "markdown",
   "metadata": {
    "id": "4TJrAm4JFr9V"
   },
   "source": [
    "Objectifs:\n",
    "Savoir organiser des données en pages pour permettre de modifier un tuple en ne modifiant qu'une seule page.\n",
    "\n",
    "Comprendre les méthodes d'accès suivantes :\n",
    "\n",
    "*   Lecture séquentielle d'une fichier : \"table access full\"\n",
    "*   Lecture d'un tuple dont on connait le rowid : \"table access by index rowid\"\n",
    "*   Opération de sélection par lecture séquentielle et filtrage \n",
    "\n",
    "Comprendre les méthodes d'indexation :\n",
    "\n",
    "*   Créer un index\n",
    "*   Opération de Sélection par index et lecture par rowid\n",
    "\n",
    "Mise à jour de données\n",
    "*   Sélectionner un tuple et modifier un de ses attributs\n",
    "*   Modifier l'index en conséquence lorsque l'attibut modifié est indexé\n",
    "\n",
    "Persistence\n",
    "*   Stocker un index (dans plusieurs pages) pour le reconstruire plus rapidement\n",
    "*   Adapter en conséquence les opérations de modification de l'index\n"
   ]
  },
  {
   "cell_type": "code",
   "execution_count": 7,
   "metadata": {
    "colab": {
     "base_uri": "https://localhost:8080/"
    },
    "id": "aodlGU01gLqK",
    "outputId": "92f6dacb-151d-4a47-b13f-96057a7732d3"
   },
   "outputs": [
    {
     "name": "stdout",
     "output_type": "stream",
     "text": [
      "nom de la table : T\n"
     ]
    }
   ],
   "source": [
    "import os\n",
    "import shutil as sh\n",
    "import numpy as np\n",
    "import random\n",
    "from random import choice\n",
    "from string import ascii_lowercase\n",
    "import time\n",
    "\n",
    "# le nom de la table \n",
    "TABLE = \"T\"\n",
    "print(\"nom de la table :\", TABLE)\n",
    "\n",
    "\n",
    "# le nom du fichier qui contient les données de la table\n",
    "def nom_fichier(table):\n",
    "    return table + \".csv\""
   ]
  },
  {
   "cell_type": "markdown",
   "metadata": {
    "id": "cRKX2fgx_gYT"
   },
   "source": [
    "# I. Générer un fichier"
   ]
  },
  {
   "cell_type": "markdown",
   "metadata": {
    "id": "ezxoKUCxtASX"
   },
   "source": [
    "Création du fichier contenant un exemple de données.\n",
    "Ce sont des données au format csv. On suppose que chaque ligne correspond à un tuple d'une table **T** ayant *n* attributs :\n",
    "\n",
    "$$ T (a_0, a_1, a_2, ..., a_{n-1})$$\n",
    "\n",
    "Le premier attribut $a_0$ est unique\n",
    "\n",
    "Les attributs suivants ne sont pas uniques (ils ont des doublons). Pour l'attribut $a_1$, il y a en moyenne 2 tuples par valeur, pour $a_2$ il y a en moyenne 4 tuples par valeurs, etc. \n",
    "\n",
    "Les attributs sont des nombres entiers sauf le dernier qui est une chaine de caractères.\n"
   ]
  },
  {
   "cell_type": "code",
   "execution_count": 8,
   "metadata": {
    "colab": {
     "base_uri": "https://localhost:8080/"
    },
    "id": "TIvmnhsTryK4",
    "outputId": "8e56626d-54fe-4041-d910-4093349c8648"
   },
   "outputs": [
    {
     "name": "stdout",
     "output_type": "stream",
     "text": [
      "données créées dans le fichier : T.csv\n"
     ]
    }
   ],
   "source": [
    "# dure environ 40s pour 5M lignes\n",
    "\n",
    "nb_lines = 5 * 1000 * 1000\n",
    "nb_attributes = 7\n",
    "\n",
    "longueur_dernier_attribut = 100\n",
    "# attribut_chaine_caracteres = \"\".join(choice(ascii_lowercase) for i in range(longueur_dernier_attribut))\n",
    "attribut_chaine_caracteres = ''.join('-' for i in range(longueur_dernier_attribut))\n",
    "# print(\"le dernier attribut de chaque tuple est la chaine de caracètes :\", attribut_chaine_caracteres)\n",
    "\n",
    "nb_valeurs_distinctes = nb_lines\n",
    "\n",
    "\n",
    "# le premier attribut est unique\n",
    "a = [random.sample(range(nb_valeurs_distinctes), nb_lines)]\n",
    "\n",
    "# les attributs suivants ont des domaines plus petits\n",
    "for i in range(1, nb_attributes):\n",
    "    nb_valeurs_distinctes = max(2, int(nb_valeurs_distinctes / 2))\n",
    "    a.append(np.random.randint(0, nb_valeurs_distinctes, nb_lines))\n",
    "\n",
    "# on concatène \"verticalement\" les colonnes pour former les tuples.\n",
    "# Le dernier attribut est une chaine de caractères\n",
    "b = [ ','.join(map(lambda x: str(x), e)) + f\",{attribut_chaine_caracteres}\\n\" for e in zip(*a)]\n",
    "\n",
    "# on stocke les données dans un fichier\n",
    "fichier = nom_fichier(TABLE)\n",
    "with open(fichier, \"w\") as f:\n",
    "    f.write(''.join(b))\n",
    "\n",
    "print(\"données créées dans le fichier :\", fichier)"
   ]
  },
  {
   "cell_type": "markdown",
   "metadata": {
    "id": "ogkKxanaBHQF"
   },
   "source": [
    "On affiche le début et la fin du fichier et son nombre de lignes ( = card(T))"
   ]
  },
  {
   "cell_type": "code",
   "execution_count": 9,
   "metadata": {
    "colab": {
     "base_uri": "https://localhost:8080/"
    },
    "id": "1aMC3Y6yryK-",
    "outputId": "6821c3e6-e482-446d-a549-a52ad50c63ee"
   },
   "outputs": [
    {
     "name": "stdout",
     "output_type": "stream",
     "text": [
      "debut de T.csv :\n",
      "610466,1491367,834008,320529,159546,90830,45493,----------------------------------------------------------------------------------------------------\n",
      "3385869,280258,767678,318746,120970,54031,57465,----------------------------------------------------------------------------------------------------\n",
      "\n",
      "fin de T.csv : \n",
      "274037,1606286,1015781,555954,131214,26550,45978,----------------------------------------------------------------------------------------------------\n",
      "1504608,311812,1043425,554732,294812,135593,21355,----------------------------------------------------------------------------------------------------\n",
      "\n",
      "size (lines) :\n",
      "5000000 T.csv\n"
     ]
    }
   ],
   "source": [
    "%%bash -s \"$fichier\"\n",
    "echo \"debut de $1 :\"\n",
    "head -n 2 $1\n",
    "echo\n",
    "echo \"fin de $1 : \"\n",
    "tail -n 2 $1\n",
    "echo\n",
    "echo \"size (lines) :\"\n",
    "wc -l $1"
   ]
  },
  {
   "cell_type": "markdown",
   "metadata": {
    "id": "5gm8_3CY_odp"
   },
   "source": [
    "# II. Lecture séquentielle"
   ]
  },
  {
   "cell_type": "markdown",
   "metadata": {
    "id": "NZaYoqeiHO2p"
   },
   "source": [
    "On définit un *iterateur* pour lire séquentiellement chaque ligne de la table stockée entièrement dans un seul fichier. Le mot python *yield* facilite la définition d'un itérateur.\n",
    "\n",
    "Cet itérateur est invoqué pour lire la table et appliquer un filtre.\n"
   ]
  },
  {
   "cell_type": "code",
   "execution_count": 10,
   "metadata": {
    "colab": {
     "base_uri": "https://localhost:8080/"
    },
    "id": "nSX2XxLx_tBa",
    "outputId": "3ea31df6-3097-4705-ce5a-5345dd4e506e"
   },
   "outputs": [
    {
     "name": "stdout",
     "output_type": "stream",
     "text": [
      "valeur recherchée : 32659\n",
      "ligne 2643479 : 32659,531820,51018,535394,158963,100525,37674,----------------------------------------------------------------------------------------------------\n",
      "done in 4.973 s\n"
     ]
    }
   ],
   "source": [
    "def lecture_sequentielle(table):\n",
    "    fichier = nom_fichier(table)\n",
    "    with open(fichier, \"r\") as f:\n",
    "        for i, line in enumerate(f):\n",
    "            yield i, line\n",
    "\n",
    "def filtrer_table(table, valeur_recherchee):\n",
    "    for i, line in lecture_sequentielle(table):\n",
    "        a = int(line.split(',')[0])\n",
    "        if a == valeur_recherchee :\n",
    "            print(f\"ligne {i} :\", line.strip())\n",
    "\n",
    "\n",
    "\n",
    "s = np.random.randint(nb_valeurs_distinctes)\n",
    "print(\"valeur recherchée :\", s)\n",
    "\n",
    "t1 = time.time()\n",
    "filtrer_table(TABLE, s)\n",
    "print(\"done in\", round(time.time() - t1, 3), \"s\")"
   ]
  },
  {
   "cell_type": "markdown",
   "metadata": {
    "id": "qlmFE3aZTBWC"
   },
   "source": [
    "# III. Découper une table en pages\n",
    "\n",
    "On organise les données en pages. \n",
    "Pour faciliter le TP, chaque page est représentée par un \"petit\" fichier mais en réalité une page serait un bloc d'un fichier.\n",
    "\n",
    "Dans la suite du TP, on accédera toujours aux pages.\n",
    "Le fichier créé initialement, contenant tous les tuples, ne sera plus utilisé."
   ]
  },
  {
   "cell_type": "code",
   "execution_count": 11,
   "metadata": {
    "colab": {
     "base_uri": "https://localhost:8080/"
    },
    "id": "kOEddKG8PHDF",
    "outputId": "632709fd-dab4-4cbd-8a57-5a7c5cd50e3b"
   },
   "outputs": [
    {
     "name": "stdout",
     "output_type": "stream",
     "text": [
      "les pages sont stockées dans le dossier T_pages\n",
      "nb pages créées : 5000\n"
     ]
    }
   ],
   "source": [
    "def page_dir_name(table):\n",
    "    return table + \"_pages\"\n",
    "\n",
    "print(\"les pages sont stockées dans le dossier\", page_dir_name(TABLE) )\n",
    "\n",
    "def decoupe_table_en_pages(table, nb_tuple_par_page):\n",
    "  page_dir = page_dir_name(table)\n",
    "\n",
    "  # vider le dossier qui contiendra les pages\n",
    "  if(os.path.exists(page_dir)):\n",
    "    sh.rmtree(page_dir)\n",
    "  os.makedirs(page_dir, exist_ok=True)\n",
    "\n",
    "  # lire le fichier contenant tous les tuples\n",
    "  p=0\n",
    "  lines = []\n",
    "  for i, line in lecture_sequentielle(table):\n",
    "    lines.append(line)\n",
    "    if (i+1) % nb_tuple_par_page == 0:\n",
    "      \n",
    "      # créer une page\n",
    "      p += 1\n",
    "      with open(page_dir + f\"/page{p}\", \"w\") as fp:\n",
    "        fp.write(''.join(lines))\n",
    "      lines = []\n",
    "\n",
    "  # créer une dernière page, si nécessaire\n",
    "  if len(lines) > 0:\n",
    "    p +=1\n",
    "    with open(page_dir + f\"/page{p}\", \"w\") as fp:\n",
    "        fp.write(''.join(lines))\n",
    "\n",
    "  print(\"nb pages créées :\", p)\n",
    "\n",
    "\n",
    "decoupe_table_en_pages(TABLE, nb_tuple_par_page=1000)"
   ]
  },
  {
   "cell_type": "markdown",
   "metadata": {
    "id": "hqaml72_bXkj"
   },
   "source": [
    "Afficher le nombre de tuples dans une page (pour quelques pages)"
   ]
  },
  {
   "cell_type": "code",
   "execution_count": 12,
   "metadata": {
    "colab": {
     "base_uri": "https://localhost:8080/"
    },
    "id": "qEX48QWEClJD",
    "outputId": "951bc496-70a3-48ee-bd11-4d73f105cc4c"
   },
   "outputs": [
    {
     "name": "stdout",
     "output_type": "stream",
     "text": [
      "     1000 T_pages/page1\n",
      "     1000 T_pages/page10\n",
      "     1000 T_pages/page100\n"
     ]
    }
   ],
   "source": [
    "%%bash -s \"$TABLE\"\n",
    "wc -l $1_pages/* | head -n 3"
   ]
  },
  {
   "cell_type": "markdown",
   "metadata": {
    "id": "Y4XDZAmbcUQb"
   },
   "source": [
    "# IV. Lecture séquentielle d'une table découpée en pages"
   ]
  },
  {
   "cell_type": "code",
   "execution_count": 13,
   "metadata": {
    "id": "KdyAkXE10nyY"
   },
   "outputs": [],
   "source": [
    "def lecture_sequentielle_par_page(fichier):\n",
    "    \"\"\"\n",
    "    :param fichier: nom de la table\n",
    "    \"\"\"\n",
    "    page_dir = page_dir_name(fichier)\n",
    "    nb_pages = len(os.listdir(page_dir))\n",
    "\n",
    "    # a faire : pour chaque page, lire ses lignes\n",
    "    for ip, page in enumerate(os.listdir(page_dir)):\n",
    "        # une ligne devient un tuple\n",
    "        with open(page_dir + \"/\" + page, 'r') as file:\n",
    "            for it, line in enumerate(file.readlines()):\n",
    "            # retourner un itérateur contenant le numéro de page, la position dans la page et le tuple\n",
    "                yield (ip, it, line)"
   ]
  },
  {
   "cell_type": "code",
   "execution_count": 14,
   "metadata": {
    "id": "fPVOrVpKccUG"
   },
   "outputs": [],
   "source": [
    "def filtrer_table_par_pages(table, valeur_recherchee):\n",
    "    # a faire pour chaque (numéro de page, position dans la page, tuple) obtnenu en invoquan la méthode ci dessus\n",
    "    for (ip, it, line) in lecture_sequentielle_par_page(table):\n",
    "        # convertir le 1er attribut en un nombre l'afficher si il est egal à la valeur recherchee\n",
    "        values = line.split(',')\n",
    "        att1 = int(values[0])\n",
    "        if att1 == valeur_recherchee:\n",
    "            print(att1)"
   ]
  },
  {
   "cell_type": "code",
   "execution_count": 15,
   "metadata": {
    "colab": {
     "base_uri": "https://localhost:8080/"
    },
    "id": "GRE2rYSf0nyY",
    "outputId": "80aef144-c04e-4dca-a09e-0ce3a4cd5405"
   },
   "outputs": [
    {
     "name": "stdout",
     "output_type": "stream",
     "text": [
      "valeur recherchée : 21513\n",
      "21513\n",
      "done in 5.61 s\n"
     ]
    }
   ],
   "source": [
    "s = np.random.randint(nb_valeurs_distinctes)\n",
    "print(\"valeur recherchée :\", s)\n",
    "\n",
    "t1 = time.time()\n",
    "filtrer_table_par_pages(TABLE, s)\n",
    "print(\"done in\", round(time.time() - t1, 2), \"s\")"
   ]
  },
  {
   "cell_type": "markdown",
   "metadata": {
    "id": "UcmdLaQ5ruBJ"
   },
   "source": [
    "# V. Lecture d'un tuple dans une page"
   ]
  },
  {
   "cell_type": "markdown",
   "metadata": {
    "id": "Ow_RkbQ_U8qs"
   },
   "source": [
    "Cette fonction retourne un tuple"
   ]
  },
  {
   "cell_type": "code",
   "execution_count": 16,
   "metadata": {
    "colab": {
     "base_uri": "https://localhost:8080/"
    },
    "id": "F4tYi4xCrxFG",
    "outputId": "f050ba33-f06e-4f1a-a2f9-645f37a8447d"
   },
   "outputs": [
    {
     "name": "stdout",
     "output_type": "stream",
     "text": [
      "Page 123 Ligne 456\n",
      "4055489,1954698,661690,556430,225410,9871,61075,----------------------------------------------------------------------------------------------------\n",
      "\n",
      "done in 11541.3 ms\n"
     ]
    }
   ],
   "source": [
    "def lecture_tuple(table, ip, it):\n",
    "    \"\"\"\n",
    "    :param table : nom de la table\n",
    "    :param ip: numéro de la page\n",
    "    :param it: numéro de la ligne (du tuple)\n",
    "    \"\"\"\n",
    "    page_dir = page_dir_name(table)\n",
    "    nb_pages = len(os.listdir(page_dir_name(table)))\n",
    "    assert ip < nb_pages\n",
    "    page = None\n",
    "    for i in range(nb_pages):\n",
    "        if int(os.listdir(page_dir_name(table))[i][4:]) == ip:\n",
    "            page = os.listdir(page_dir_name(table))[i]\n",
    "            print('Page', ip, end=' ')\n",
    "            break\n",
    "    with open(page_dir + \"/\" + page, 'r') as filep:\n",
    "        print('Ligne', it)\n",
    "        return filep.readlines()[it]\n",
    "\n",
    "t1 = time.time()\n",
    "print(lecture_tuple(TABLE, 123, 456))\n",
    "print(\"done in\", round((time.time() - t1)*1000, 1), \"ms\")"
   ]
  },
  {
   "cell_type": "markdown",
   "metadata": {
    "id": "5mD_xZjLxXLD"
   },
   "source": [
    "# VI. Créer un index"
   ]
  },
  {
   "cell_type": "markdown",
   "metadata": {
    "id": "vNgxRQtOTwOH"
   },
   "source": [
    "## VI. 1. Créer un index unique pour l'attribut $a_0$"
   ]
  },
  {
   "cell_type": "markdown",
   "metadata": {
    "id": "TCJyftyiXyFo"
   },
   "source": [
    "On sait que $a_0$ est unique. \n",
    "Une entrée associe une *clé* à une *valeur*.\n",
    "*   La *clé* est la valeur du 1er attribut. \n",
    "*   La *valeur* est un **rowid** formé des informations (page, position)\n",
    "\n"
   ]
  },
  {
   "cell_type": "code",
   "execution_count": 17,
   "metadata": {
    "colab": {
     "base_uri": "https://localhost:8080/"
    },
    "id": "Fhy4IJ0bxWHD",
    "outputId": "bce2312b-41eb-4977-b0c4-5bdd07fadaae"
   },
   "outputs": [
    {
     "name": "stdout",
     "output_type": "stream",
     "text": [
      "done in 7.79 s\n"
     ]
    }
   ],
   "source": [
    "def creation_index_unique(table):\n",
    "    \"\"\"\n",
    "    :param table : nom de la table\n",
    "    :return dictionnaire d'index unique\n",
    "    \"\"\"\n",
    "    index = {}\n",
    "    page_dir = page_dir_name(table)\n",
    "    for page in os.listdir(page_dir):\n",
    "        ip = int(page[4:])\n",
    "        with open(page_dir + \"/\" + page, 'r') as file:\n",
    "            for it, line in enumerate(file.readlines()):\n",
    "                index[int(line.split(',')[0])] = (ip, it)\n",
    "    return index\n",
    "\n",
    "t1 = time.time()\n",
    "INDEX_UNIQUE_a0 = creation_index_unique(TABLE)\n",
    "print(\"done in\", round(time.time() - t1, 3), \"s\")"
   ]
  },
  {
   "cell_type": "code",
   "execution_count": 18,
   "metadata": {
    "colab": {
     "base_uri": "https://localhost:8080/"
    },
    "id": "r1H4RAlCvBA3",
    "outputId": "95c6dc22-2153-4a25-c260-189a155c4dd8"
   },
   "outputs": [
    {
     "name": "stdout",
     "output_type": "stream",
     "text": [
      "68267 (1573, 907)\n"
     ]
    }
   ],
   "source": [
    "# vérifier l'index unique\n",
    "s = np.random.randint(nb_valeurs_distinctes)\n",
    "print(s, INDEX_UNIQUE_a0[s])"
   ]
  },
  {
   "cell_type": "markdown",
   "metadata": {
    "id": "JcUQ8XRcT1dg"
   },
   "source": [
    "## VI. 2. Créer un index non unique pour l'attribut $a_i$"
   ]
  },
  {
   "cell_type": "markdown",
   "metadata": {
    "id": "M4AtpJouWSmB"
   },
   "source": [
    "On donne un nom de table et le numéro $i$ de l'attribut $a_i$ de la table."
   ]
  },
  {
   "cell_type": "code",
   "execution_count": 19,
   "metadata": {
    "colab": {
     "base_uri": "https://localhost:8080/"
    },
    "id": "gxJC1-m-VRC5",
    "outputId": "3de6bee0-4386-4229-d1f2-5b1aa9b5b7e2"
   },
   "outputs": [
    {
     "name": "stdout",
     "output_type": "stream",
     "text": [
      "done in 49.381 s\n"
     ]
    }
   ],
   "source": [
    "def creation_index(table, numero_attribut):\n",
    "    \"\"\"\n",
    "    :param table : nom de la table\n",
    "    :param numero_attribut\n",
    "    :return dictionnaire d'index sur l'attribut\n",
    "    \"\"\"\n",
    "    index = {}\n",
    "    page_dir = page_dir_name(table)\n",
    "    for page in os.listdir(page_dir):\n",
    "        ip = int(page[4:])\n",
    "        with open(page_dir + \"/\" + page, 'r') as file:\n",
    "            for it, line in enumerate(file.readlines()):\n",
    "                key = int(line.split(',')[numero_attribut])\n",
    "                rowids = index[key] if key in index else []\n",
    "                index[key] = rowids + [(ip, it)]\n",
    "    return index\n",
    "\n",
    "t1 = time.time()\n",
    "INDEX_a2 = creation_index(TABLE, 2)\n",
    "print(\"done in\", round(time.time() - t1, 3), \"s\")"
   ]
  },
  {
   "cell_type": "code",
   "execution_count": 20,
   "metadata": {
    "colab": {
     "base_uri": "https://localhost:8080/"
    },
    "id": "Jd4PJ75JvESP",
    "outputId": "acea3e5f-3f0a-4b2f-93f0-8fc0e8775bc6"
   },
   "outputs": [
    {
     "name": "stdout",
     "output_type": "stream",
     "text": [
      "valeur recherchée : 10381\n",
      "Page 1928 Ligne 733\n",
      "(1928, 733) : 2563634,124692,10381,222045,41703,64856,24435,----------------------------------------------------------------------------------------------------\n",
      "\n",
      "Page 1131 Ligne 963\n",
      "(1131, 963) : 1978082,1198637,10381,623471,164655,68556,32123,----------------------------------------------------------------------------------------------------\n",
      "\n",
      "Page 2221 Ligne 280\n",
      "(2221, 280) : 3030775,1148833,10381,526013,305148,114810,71905,----------------------------------------------------------------------------------------------------\n",
      "\n",
      "Page 1990 Ligne 450\n",
      "(1990, 450) : 609636,826308,10381,372947,278580,111206,68481,----------------------------------------------------------------------------------------------------\n",
      "\n",
      "Page 1844 Ligne 670\n",
      "(1844, 670) : 1534107,1519004,10381,519081,152614,132978,64494,----------------------------------------------------------------------------------------------------\n",
      "\n"
     ]
    }
   ],
   "source": [
    "# vérifier l'index\n",
    "s = np.random.randint(nb_valeurs_distinctes/4)\n",
    "print(\"valeur recherchée :\", s)\n",
    "for ri in INDEX_a2[s]:\n",
    "    if ri is None: continue\n",
    "    print(ri, ':', lecture_tuple(TABLE, *ri))"
   ]
  },
  {
   "cell_type": "markdown",
   "metadata": {
    "id": "-qA7hCef5Kfa"
   },
   "source": [
    "# VII. Accès par index"
   ]
  },
  {
   "cell_type": "markdown",
   "metadata": {
    "id": "J0zrHPfGJjzm"
   },
   "source": [
    "## VII. 1. Accès ciblé \n",
    "\n"
   ]
  },
  {
   "cell_type": "markdown",
   "metadata": {
    "id": "EEEUaCYqhIaB"
   },
   "source": [
    "### VII. 1. 1. Index unique scan. \n",
    "Accès pour rechercher le tuple dont l'attribut indexé a une valeur donnée (on suppose que l'attribut est unique)"
   ]
  },
  {
   "cell_type": "code",
   "execution_count": 21,
   "metadata": {
    "colab": {
     "base_uri": "https://localhost:8080/"
    },
    "id": "PH3f5bz-5JTu",
    "outputId": "bb1d7111-173f-4520-e9d6-26dd8f136479"
   },
   "outputs": [
    {
     "name": "stdout",
     "output_type": "stream",
     "text": [
      "valeur recherchée : 55942\n",
      "Page 1666 Ligne 487\n",
      "(1666, 487) : 55942,2124923,874982,525114,50318,15825,70033,----------------------------------------------------------------------------------------------------\n",
      "\n",
      "done in 9021.1 ms\n"
     ]
    }
   ],
   "source": [
    "def acces_par_index_unique(index_unique, table, valeur_recherchee):\n",
    "    \"\"\"\n",
    "    :param index_unique\n",
    "    :param table\n",
    "    :param valeur_recherche\n",
    "    :return tuple (ip, it)\n",
    "    \"\"\"\n",
    "    return index_unique.get(valeur_recherchee, None)\n",
    "\n",
    "s = np.random.randint(nb_valeurs_distinctes)\n",
    "print(\"valeur recherchée :\", s)\n",
    "\n",
    "t1 = time.time()\n",
    "ri = acces_par_index_unique(INDEX_UNIQUE_a0, TABLE, s)\n",
    "if ri is not None:\n",
    "    print(ri, ':', lecture_tuple(TABLE, *ri))\n",
    "print(\"done in\", round((time.time() - t1)*1000, 2), \"ms\")"
   ]
  },
  {
   "cell_type": "markdown",
   "metadata": {
    "id": "xfR_0QAShCJi"
   },
   "source": [
    "### VII. 1. 2. Index scan\n",
    "Accès pour rechercher les tuples dont l'attribut indexé a une valeur donnée. On suppose que l'attribut n'est pas unique et que plusieurs tuples sont retrouvés"
   ]
  },
  {
   "cell_type": "code",
   "execution_count": 22,
   "metadata": {
    "colab": {
     "base_uri": "https://localhost:8080/"
    },
    "id": "4eyjynk_hZer",
    "outputId": "c8b06946-3d1f-462e-a016-0847fa1555b9"
   },
   "outputs": [
    {
     "name": "stdout",
     "output_type": "stream",
     "text": [
      "valeur recherchée : 51492\n",
      "Page 4323 Ligne 371\n",
      "(4323, 371) : 2708457,1659984,51492,567166,216353,117429,17659,----------------------------------------------------------------------------------------------------\n",
      "\n",
      "done in 10045.65 ms\n"
     ]
    }
   ],
   "source": [
    "def acces_par_index(index, table, valeur_recherchee):\n",
    "    \"\"\"\n",
    "    :param index \n",
    "    :param table\n",
    "    :param valeur_recherchee\n",
    "    :return list((ip, it))\n",
    "    \"\"\"\n",
    "    return index.get(valeur_recherchee, None)\n",
    "\n",
    "s = np.random.randint(nb_valeurs_distinctes)\n",
    "print(\"valeur recherchée :\", s)\n",
    "\n",
    "t1 = time.time()\n",
    "rowid = acces_par_index(INDEX_a2, TABLE, s)\n",
    "for ri in rowid:\n",
    "    if ri is None: continue\n",
    "    print(ri, ':', lecture_tuple(TABLE, *ri))\n",
    "print(\"done in\", round((time.time() - t1)*1000, 2), \"ms\")"
   ]
  },
  {
   "cell_type": "markdown",
   "metadata": {
    "id": "afvN2LWhJs0V"
   },
   "source": [
    "## VII. 2. Accès par intervalle \n",
    "Index range scan\n",
    "\n"
   ]
  },
  {
   "cell_type": "markdown",
   "metadata": {
    "id": "CIL6jrUuaPMO"
   },
   "source": [
    "### VII. 2. 1. Accès par intervalle sur un attribut unique\n",
    "Accès pour rechercher les tuples dont l'attribut indexé est unique et a une valeur comprise dans un intervalle donné."
   ]
  },
  {
   "cell_type": "code",
   "execution_count": 23,
   "metadata": {
    "colab": {
     "base_uri": "https://localhost:8080/"
    },
    "id": "EGEO1PheSEdT",
    "outputId": "5821c42a-850f-4dc0-f831-79f294436a68"
   },
   "outputs": [
    {
     "name": "stdout",
     "output_type": "stream",
     "text": [
      "valeur recherchée : 11913\n",
      "Page 731 Ligne 157\n",
      "(731, 157) : 11913,2375559,527065,43972,11853,71572,67045,----------------------------------------------------------------------------------------------------\n",
      "\n",
      "Page 1866 Ligne 632\n",
      "(1866, 632) : 11914,2405299,1098437,488620,268802,96497,2250,----------------------------------------------------------------------------------------------------\n",
      "\n",
      "Page 917 Ligne 837\n",
      "(917, 837) : 11915,1472830,647388,470946,309754,6601,36256,----------------------------------------------------------------------------------------------------\n",
      "\n",
      "Page 3311 Ligne 540\n",
      "(3311, 540) : 11916,1178380,270491,602432,47622,133631,24717,----------------------------------------------------------------------------------------------------\n",
      "\n",
      "Page 2826 Ligne 377\n",
      "(2826, 377) : 11917,229143,35833,576948,108398,50959,46150,----------------------------------------------------------------------------------------------------\n",
      "\n",
      "Page 213 Ligne 420\n",
      "(213, 420) : 11918,957572,559504,171266,52791,2158,76865,----------------------------------------------------------------------------------------------------\n",
      "\n",
      "Page 2462 Ligne 231\n",
      "(2462, 231) : 11919,1873411,1240615,606766,84861,98345,59621,----------------------------------------------------------------------------------------------------\n",
      "\n",
      "Page 4620 Ligne 680\n",
      "(4620, 680) : 11920,2456644,110147,553868,50775,88729,19585,----------------------------------------------------------------------------------------------------\n",
      "\n",
      "Page 4746 Ligne 961\n",
      "(4746, 961) : 11921,307242,1013108,196340,115257,33128,56553,----------------------------------------------------------------------------------------------------\n",
      "\n",
      "Page 1734 Ligne 463\n",
      "(1734, 463) : 11922,1090491,544042,380176,275862,77499,57497,----------------------------------------------------------------------------------------------------\n",
      "\n",
      "Page 444 Ligne 840\n",
      "(444, 840) : 11923,518608,659293,392278,44534,139263,33409,----------------------------------------------------------------------------------------------------\n",
      "\n",
      "done in 76.09 s\n"
     ]
    }
   ],
   "source": [
    "def acces_intervalle_par_index_unique(index_unique, table, borne_inf, borne_sup):\n",
    "    \"\"\"\n",
    "    :param index_unique\n",
    "    :param table\n",
    "    :param borne_inf\n",
    "    :param borne_sup\n",
    "    :return list((ip, it))\n",
    "    \"\"\"\n",
    "    rowid = []\n",
    "    for i in range(borne_inf, borne_sup + 1):\n",
    "        rowid.append(index_unique.get(i, None))\n",
    "    return rowid\n",
    "\n",
    "s = np.random.randint(nb_valeurs_distinctes/4)\n",
    "print(\"valeur recherchée :\", s)\n",
    "\n",
    "t1 = time.time()\n",
    "rowid = acces_intervalle_par_index_unique(INDEX_UNIQUE_a0, TABLE, s, s+10)\n",
    "for ri in rowid:\n",
    "    if ri is None: continue\n",
    "    print(ri, ':', lecture_tuple(TABLE, *ri))\n",
    "print(\"done in\", round(time.time() - t1, 2), \"s\")"
   ]
  },
  {
   "cell_type": "markdown",
   "metadata": {
    "id": "nDaG7WelaQrG"
   },
   "source": [
    "### VII. 2. 2. Accès par intervalle sur un attribut NON unique\n",
    "Accès pour rechercher les tuples dont l'attribut indexé n'est **pas** unique et a une valeur comprise dans un intervalle donné."
   ]
  },
  {
   "cell_type": "code",
   "execution_count": 24,
   "metadata": {
    "colab": {
     "base_uri": "https://localhost:8080/"
    },
    "id": "KQEYfcoEak5A",
    "outputId": "bfd97371-a0c7-41c7-aa73-637f5f0e7677",
    "scrolled": false
   },
   "outputs": [
    {
     "name": "stdout",
     "output_type": "stream",
     "text": [
      "valeur recherchée : 17891\n",
      "Page 4740 Ligne 701\n",
      "(4740, 701) : 2445261,662523,17891,25841,53887,40869,38766,----------------------------------------------------------------------------------------------------\n",
      "\n",
      "Page 967 Ligne 836\n",
      "(967, 836) : 3117071,1727106,17891,490847,105507,20473,72317,----------------------------------------------------------------------------------------------------\n",
      "\n",
      "Page 1231 Ligne 93\n",
      "(1231, 93) : 3643839,1117568,17891,398114,197844,104527,38294,----------------------------------------------------------------------------------------------------\n",
      "\n",
      "Page 1015 Ligne 125\n",
      "(1015, 125) : 4308450,699442,17891,496081,58363,34516,792,----------------------------------------------------------------------------------------------------\n",
      "\n",
      "Page 2832 Ligne 159\n",
      "(2832, 159) : 4854321,471545,17891,23120,306222,27982,32448,----------------------------------------------------------------------------------------------------\n",
      "\n",
      "Page 907 Ligne 678\n",
      "(907, 678) : 3281970,632473,17891,572290,139661,61613,29423,----------------------------------------------------------------------------------------------------\n",
      "\n",
      "Page 2776 Ligne 733\n",
      "(2776, 733) : 849288,1105395,17892,452066,280501,141152,30058,----------------------------------------------------------------------------------------------------\n",
      "\n",
      "Page 1954 Ligne 905\n",
      "(1954, 905) : 4571420,1329988,17892,14578,110755,116437,24458,----------------------------------------------------------------------------------------------------\n",
      "\n",
      "Page 4331 Ligne 186\n",
      "(4331, 186) : 3362039,1987257,17893,40326,154414,83783,58701,----------------------------------------------------------------------------------------------------\n",
      "\n",
      "Page 1965 Ligne 822\n",
      "(1965, 822) : 737523,1058080,17893,546552,271440,96706,68235,----------------------------------------------------------------------------------------------------\n",
      "\n",
      "Page 1866 Ligne 170\n",
      "(1866, 170) : 473996,221767,17893,421445,286820,54552,16011,----------------------------------------------------------------------------------------------------\n",
      "\n",
      "Page 2590 Ligne 781\n",
      "(2590, 781) : 721940,2394633,17893,570463,26571,5915,59782,----------------------------------------------------------------------------------------------------\n",
      "\n",
      "Page 4972 Ligne 176\n",
      "(4972, 176) : 3514288,1493397,17893,257237,264059,79565,61448,----------------------------------------------------------------------------------------------------\n",
      "\n",
      "Page 788 Ligne 234\n",
      "(788, 234) : 669544,1618589,17893,143113,220158,12770,8197,----------------------------------------------------------------------------------------------------\n",
      "\n",
      "Page 541 Ligne 964\n",
      "(541, 964) : 3488583,2156756,17894,5668,140079,121644,59590,----------------------------------------------------------------------------------------------------\n",
      "\n",
      "Page 281 Ligne 623\n",
      "(281, 623) : 4840949,1793783,17894,505351,48389,137240,38624,----------------------------------------------------------------------------------------------------\n",
      "\n",
      "Page 4103 Ligne 973\n",
      "(4103, 973) : 2858965,1861310,17894,381120,64547,149032,62494,----------------------------------------------------------------------------------------------------\n",
      "\n",
      "Page 1117 Ligne 37\n",
      "(1117, 37) : 1677862,601014,17894,156210,120509,147208,35369,----------------------------------------------------------------------------------------------------\n",
      "\n",
      "Page 4004 Ligne 515\n",
      "(4004, 515) : 1320239,305177,17894,448132,244225,109820,41182,----------------------------------------------------------------------------------------------------\n",
      "\n",
      "Page 3468 Ligne 385\n",
      "(3468, 385) : 3265809,211899,17895,375250,85302,90113,23835,----------------------------------------------------------------------------------------------------\n",
      "\n",
      "Page 4683 Ligne 214\n",
      "(4683, 214) : 4228625,684367,17895,135721,234101,141827,25845,----------------------------------------------------------------------------------------------------\n",
      "\n",
      "Page 4641 Ligne 760\n",
      "(4641, 760) : 2465017,2442712,17895,22367,149742,30491,59895,----------------------------------------------------------------------------------------------------\n",
      "\n",
      "Page 4906 Ligne 459\n",
      "(4906, 459) : 582648,678827,17895,351466,164893,133286,42618,----------------------------------------------------------------------------------------------------\n",
      "\n",
      "Page 100 Ligne 793\n",
      "(100, 793) : 4200646,186406,17895,537605,55022,139432,14901,----------------------------------------------------------------------------------------------------\n",
      "\n",
      "done in 147.54 s\n"
     ]
    }
   ],
   "source": [
    "def acces_intervalle_par_index(index, table, borne_inf, borne_sup):    \n",
    "    \"\"\"\n",
    "    :param index\n",
    "    :param table\n",
    "    :param borne_inf\n",
    "    :param borne_sup\n",
    "    :return list((ip, it))\n",
    "    \"\"\"\n",
    "    rowid = []\n",
    "    for i in range(borne_inf, borne_sup + 1):\n",
    "        rids = index.get(i, None)\n",
    "        if rids is not None:\n",
    "            rowid = rowid + [*rids]\n",
    "    return rowid\n",
    "\n",
    "s = np.random.randint(nb_valeurs_distinctes / 4)\n",
    "print(\"valeur recherchée :\", s)\n",
    "\n",
    "t1 = time.time()\n",
    "rowid = acces_intervalle_par_index(INDEX_a2, TABLE, s, s + 5)\n",
    "for ri in rowid:\n",
    "    if ri is None: continue\n",
    "    print(ri, ':', lecture_tuple(TABLE, *ri))\n",
    "print(\"done in\", round(time.time() - t1, 2), \"s\")"
   ]
  },
  {
   "cell_type": "markdown",
   "metadata": {
    "id": "7Rjm99DrKR8t"
   },
   "source": [
    "# VIII. Mise à jour de données"
   ]
  },
  {
   "cell_type": "markdown",
   "metadata": {
    "id": "7np5NI8OKK6z"
   },
   "source": [
    "## VIII. 1. Sélectionner un tuple et modifier un de ses attributs"
   ]
  },
  {
   "cell_type": "markdown",
   "metadata": {
    "id": "Z7aN87BOuEbq"
   },
   "source": [
    "### VIII. 1. 1. Modification d'un seul tuple\n",
    "\n",
    "On donne une valeur *v* de l'attribut clé $a_0$. Ajouter 1 à l'attribut $a_1$. Cela correspond à l'instruction\n",
    "\n",
    "<center>update T\n",
    "set a1 = a1+1\n",
    "where a0 = *v*</center>\n",
    "\n",
    "Après la modification, accéder aux données pour vérifier que le tuple a bien été modifié. Par exemple, invoquer la fonction\n",
    "acces_par_index_unique(index, table, v)\n",
    "\n"
   ]
  },
  {
   "cell_type": "code",
   "execution_count": 25,
   "metadata": {
    "id": "dNgsNdwt0nyf"
   },
   "outputs": [],
   "source": [
    "def _incremente_unique(table, ip, it, numero_attribut):\n",
    "    \"\"\"\n",
    "    modifie une ligne d'une page en incrémentant un attribut\n",
    "    :param table : nom de la table\n",
    "    :param ip : numéro de la page\n",
    "    :param it : numéro de la ligne\n",
    "    :param numero_attribut\n",
    "    \"\"\"\n",
    "    page_dir = page_dir_name(table)\n",
    "    nb_pages = len(os.listdir(page_dir))\n",
    "  \n",
    "    page = None\n",
    "    for i in range(nb_pages):\n",
    "        if int(os.listdir(page_dir)[i][4:]) == ip:\n",
    "            page = os.listdir(page_dir)[i]\n",
    "            print(page)\n",
    "            break\n",
    "            \n",
    "    file = open(page_dir + \"/\" + page, \"r+\")\n",
    "    lines = file.readlines()\n",
    "    atts = lines[it].split(',')\n",
    "    atts[numero_attribut] = str( int(atts[numero_attribut]) + 1 )\n",
    "    lines[it] = ','.join(atts)\n",
    "    file.seek(0)\n",
    "    file.writelines(lines)\n",
    "    file.close()"
   ]
  },
  {
   "cell_type": "code",
   "execution_count": 26,
   "metadata": {
    "colab": {
     "base_uri": "https://localhost:8080/"
    },
    "id": "RCRwCGlwKlEK",
    "outputId": "3004b613-013e-404c-90a9-42e77ded59f6"
   },
   "outputs": [
    {
     "name": "stdout",
     "output_type": "stream",
     "text": [
      "Valeur de la clé : 6140\n",
      "\n",
      "Lecture du tuple avant modification :\n",
      "Page 520 Ligne 460\n",
      "6140,533403,20645,178053,66966,15456,59325,----------------------------------------------------------------------------------------------------\n",
      "\n",
      "page520\n",
      "\n",
      "Lecture du tuple après modification :\n",
      "Page 520 Ligne 460\n",
      "6140,533404,20645,178053,66966,15456,59325,----------------------------------------------------------------------------------------------------\n",
      "\n"
     ]
    }
   ],
   "source": [
    "def incremente_unique(index, table, v, numero_attribut=1):\n",
    "    \"\"\"\n",
    "    incrémentation d'un attribut avec index unique\n",
    "    :param index : dictionnaire d'index\n",
    "    :param table : nom de la table\n",
    "    :param v: valeur d'index pour laquelle modifier la ligne\n",
    "    :param numero_attribut : numero de l'attribut à incrémenter\n",
    "    \"\"\"\n",
    "    ip, it = index[v]\n",
    "    _incremente_unique(table, ip, it, numero_attribut)\n",
    "    \n",
    "s = np.random.randint(nb_valeurs_distinctes / 4)\n",
    "print('Valeur de la clé :', s)\n",
    "print('\\nLecture du tuple avant modification :')\n",
    "print(lecture_tuple(TABLE, *INDEX_UNIQUE_a0[s]))\n",
    "\n",
    "# modification\n",
    "incremente_unique(INDEX_UNIQUE_a0, TABLE, s)\n",
    "\n",
    "print('\\nLecture du tuple après modification :')\n",
    "print(lecture_tuple(TABLE, *INDEX_UNIQUE_a0[s]))"
   ]
  },
  {
   "cell_type": "markdown",
   "metadata": {
    "id": "vdexpmRuKfs2"
   },
   "source": [
    "### VIII. 1. 2. Modification de plusieurs tuples\n",
    "\n",
    "On donne une valeur *v* de l'attribut $a_2$ qui n'est pas unique. Ajouter 1 à l'attribut $a_3$.\n",
    "\n",
    "update T set a3 = a3+1 where a1=v\n",
    "\n"
   ]
  },
  {
   "cell_type": "code",
   "execution_count": 27,
   "metadata": {
    "id": "bOZdW-gU0nyg"
   },
   "outputs": [],
   "source": [
    "def _incremente(table, rowid, numero_attribut):\n",
    "    \"\"\"\n",
    "    modifie une liste de rowid d'une page en incrémentant un attribut\n",
    "    :param table : nom de la table\n",
    "    :param rowid : list((ip, it))\n",
    "    :param numero_attribut\n",
    "    \"\"\"\n",
    "    # clé : pages\n",
    "    # values : liste des tuples de la page\n",
    "    rowid_dict = {}\n",
    "    for (ip, it) in rowid:\n",
    "        if not ip in rowid_dict:\n",
    "            rowid_dict[ip] = []\n",
    "        rowid_dict[ip] = rowid_dict[ip] + [it]\n",
    "    \n",
    "    for ip in rowid_dict:\n",
    "        page_dir = page_dir_name(table)\n",
    "        nb_pages = len(os.listdir(page_dir))\n",
    "    \n",
    "        page = None\n",
    "        for i in range(nb_pages):\n",
    "            if int(os.listdir(page_dir)[i][4:]) == ip:\n",
    "                page = os.listdir(page_dir)[i]\n",
    "                print(page)\n",
    "                break\n",
    "        \n",
    "        file = open(page_dir + \"/\" + page, \"r+\")\n",
    "        lines = file.readlines()\n",
    "        \n",
    "        # modification des tuples de la page concernés\n",
    "        for it in rowid_dict[ip]:\n",
    "            atts = lines[it].split(',')\n",
    "            atts[numero_attribut] = str( int(atts[numero_attribut]) + 1 )\n",
    "            lines[it] = ','.join(atts)\n",
    "            \n",
    "        file.seek(0)\n",
    "        file.writelines(lines)\n",
    "        file.close()"
   ]
  },
  {
   "cell_type": "code",
   "execution_count": 28,
   "metadata": {
    "colab": {
     "base_uri": "https://localhost:8080/"
    },
    "id": "J_18vhvxM61d",
    "outputId": "3e983006-7448-439b-9afb-d69d107d0553"
   },
   "outputs": [
    {
     "name": "stdout",
     "output_type": "stream",
     "text": [
      "Valeur de la clé : 5178\n",
      "\n",
      "Lecture du tuple avant modification :\n",
      "Page 2989 Ligne 68\n",
      "4750077,1845776,5178,433875,145542,62895,50307,----------------------------------------------------------------------------------------------------\n",
      "\n",
      "Page 3235 Ligne 315\n",
      "3063009,2433071,5178,451703,211335,135387,19858,----------------------------------------------------------------------------------------------------\n",
      "\n",
      "Page 152 Ligne 543\n",
      "61561,2334364,5178,287011,65760,7003,10064,----------------------------------------------------------------------------------------------------\n",
      "\n",
      "page2989\n",
      "page3235\n",
      "page152\n",
      "\n",
      "Lecture du tuple après modification :\n",
      "Page 2989 Ligne 68\n",
      "4750077,1845776,5178,433876,145542,62895,50307,----------------------------------------------------------------------------------------------------\n",
      "\n",
      "Page 3235 Ligne 315\n",
      "3063009,2433071,5178,451704,211335,135387,19858,----------------------------------------------------------------------------------------------------\n",
      "\n",
      "Page 152 Ligne 543\n",
      "61561,2334364,5178,287012,65760,7003,10064,----------------------------------------------------------------------------------------------------\n",
      "\n"
     ]
    }
   ],
   "source": [
    "def incremente(index, table, v, numero_attribut=3):\n",
    "    \"\"\"\n",
    "    incrémentation d'un attribut avec index\n",
    "    :param index : dictionnaire d'index\n",
    "    :param table : nom de la table\n",
    "    :param v: valeur d'index pour laquelle modifier la ligne\n",
    "    :param numero_attribut : numero de l'attribut à incrémenter\n",
    "    \"\"\"\n",
    "    rowid = index[v]\n",
    "    _incremente(table, rowid, numero_attribut)\n",
    "\n",
    "    \n",
    "s = np.random.randint(nb_valeurs_distinctes / 4)\n",
    "print('Valeur de la clé :', s)\n",
    "\n",
    "print('\\nLecture du tuple avant modification :')\n",
    "for ri in INDEX_a2[s]:\n",
    "    print(lecture_tuple(TABLE, *ri))\n",
    "\n",
    "# modification\n",
    "incremente(INDEX_a2, TABLE, s)\n",
    "\n",
    "print('\\nLecture du tuple après modification :')\n",
    "for ri in INDEX_a2[s]:\n",
    "    print(lecture_tuple(TABLE, *ri))"
   ]
  },
  {
   "cell_type": "markdown",
   "metadata": {
    "id": "8zAZws5_KaL8"
   },
   "source": [
    "## VIII. 2. Modifier l'index en conséquence lorsque l'attibut modifié est indexé\n",
    "Par exemple, si $a_3$ est indexé, la mise à jour de la question précédente implique d'actualiser l'index sur $a_3$  pour que les rowid associés à l'ancienne valeur de $a_3$  soient associés à la nouvelle valeur de $a_3$ ."
   ]
  },
  {
   "cell_type": "code",
   "execution_count": 29,
   "metadata": {
    "id": "xfl6sW450nyg"
   },
   "outputs": [],
   "source": [
    "INDEX_a3 = creation_index(TABLE, 3)"
   ]
  },
  {
   "cell_type": "code",
   "execution_count": 30,
   "metadata": {
    "colab": {
     "base_uri": "https://localhost:8080/"
    },
    "id": "3_dcGN_dKaya",
    "outputId": "df138bc2-8250-4138-8b0c-4797d35276f9",
    "scrolled": false
   },
   "outputs": [
    {
     "name": "stdout",
     "output_type": "stream",
     "text": [
      "Valeur de la clé : 1130\n",
      "\n",
      "Lecture du tuple avant modification :\n",
      "Page 2736 Ligne 147\n",
      "3224560,585275,1134239,1130,26970,51957,15540,----------------------------------------------------------------------------------------------------\n",
      "\n",
      "Page 1413 Ligne 621\n",
      "3810631,2398656,297589,1130,22809,155127,22425,----------------------------------------------------------------------------------------------------\n",
      "\n",
      "Page 4080 Ligne 56\n",
      "1409116,2256039,1204550,1130,16937,28844,77368,----------------------------------------------------------------------------------------------------\n",
      "\n",
      "Page 4954 Ligne 268\n",
      "3162151,1546521,934498,1130,140181,135906,8228,----------------------------------------------------------------------------------------------------\n",
      "\n",
      "Page 81 Ligne 588\n",
      "4085695,749013,937384,1130,28066,76344,52568,----------------------------------------------------------------------------------------------------\n",
      "\n",
      "Page 77 Ligne 11\n",
      "897445,615234,164480,1130,46408,112937,59519,----------------------------------------------------------------------------------------------------\n",
      "\n",
      "Page 352 Ligne 556\n",
      "777888,1937698,500107,1130,262238,152479,56661,----------------------------------------------------------------------------------------------------\n",
      "\n",
      "Page 3611 Ligne 983\n",
      "2722260,733177,1226711,1130,149637,113821,25673,----------------------------------------------------------------------------------------------------\n",
      "\n",
      "Page 627 Ligne 226\n",
      "1618788,2349567,679459,1130,186152,85181,28848,----------------------------------------------------------------------------------------------------\n",
      "\n",
      "Page 3094 Ligne 809\n",
      "4170083,1040165,804932,1130,105355,37593,50833,----------------------------------------------------------------------------------------------------\n",
      "\n",
      "Page 4783 Ligne 282\n",
      "4887275,279258,834827,1130,11497,40610,58094,----------------------------------------------------------------------------------------------------\n",
      "\n",
      "Page 683 Ligne 812\n",
      "3886270,1921788,29237,1130,156754,69054,31869,----------------------------------------------------------------------------------------------------\n",
      "\n",
      "Page 2609 Ligne 891\n",
      "4537907,1454445,95960,1130,121818,126865,60410,----------------------------------------------------------------------------------------------------\n",
      "\n",
      "Page 2470 Ligne 517\n",
      "3956258,2462362,630382,1130,32004,13426,35198,----------------------------------------------------------------------------------------------------\n",
      "\n",
      "Page 1951 Ligne 864\n",
      "2867317,1694966,298873,1130,161048,18506,66001,----------------------------------------------------------------------------------------------------\n",
      "\n",
      "Page 1600 Ligne 200\n",
      "1065545,2255766,1061646,1130,302315,118575,35168,----------------------------------------------------------------------------------------------------\n",
      "\n",
      "page2736\n",
      "page1413\n",
      "page4080\n",
      "page4954\n",
      "page81\n",
      "page77\n",
      "page352\n",
      "page3611\n",
      "page627\n",
      "page3094\n",
      "page4783\n",
      "page683\n",
      "page2609\n",
      "page2470\n",
      "page1951\n",
      "page1600\n",
      "\n",
      "Lecture du tuple après modification pour la valeur : 1130\n",
      "\n",
      "Lecture du tuple après modification pour la valeur : 1131\n",
      "Page 365 Ligne 661\n",
      "1137916,1749682,76398,1131,9926,98786,43468,----------------------------------------------------------------------------------------------------\n",
      "\n",
      "Page 4705 Ligne 142\n",
      "465333,2112120,308544,1131,88177,54485,54196,----------------------------------------------------------------------------------------------------\n",
      "\n",
      "Page 2172 Ligne 393\n",
      "890979,880718,472791,1131,241796,57484,22008,----------------------------------------------------------------------------------------------------\n",
      "\n",
      "Page 3261 Ligne 854\n",
      "1517400,2200113,470119,1131,64405,101735,26644,----------------------------------------------------------------------------------------------------\n",
      "\n",
      "Page 4907 Ligne 194\n",
      "418328,1453015,620139,1131,216900,49573,43786,----------------------------------------------------------------------------------------------------\n",
      "\n",
      "Page 1427 Ligne 696\n",
      "4357439,950688,546953,1131,27093,37843,77523,----------------------------------------------------------------------------------------------------\n",
      "\n",
      "Page 2736 Ligne 147\n",
      "3224560,585275,1134240,1130,26970,51957,15540,----------------------------------------------------------------------------------------------------\n",
      "\n",
      "Page 1413 Ligne 621\n",
      "3810631,2398656,297590,1130,22809,155127,22425,----------------------------------------------------------------------------------------------------\n",
      "\n",
      "Page 4080 Ligne 56\n",
      "1409116,2256039,1204551,1130,16937,28844,77368,----------------------------------------------------------------------------------------------------\n",
      "\n",
      "Page 4954 Ligne 268\n",
      "3162151,1546521,934499,1130,140181,135906,8228,----------------------------------------------------------------------------------------------------\n",
      "\n",
      "Page 81 Ligne 588\n",
      "4085695,749013,937385,1130,28066,76344,52568,----------------------------------------------------------------------------------------------------\n",
      "\n",
      "Page 77 Ligne 11\n",
      "897445,615234,164481,1130,46408,112937,59519,----------------------------------------------------------------------------------------------------\n",
      "\n",
      "Page 352 Ligne 556\n",
      "777888,1937698,500108,1130,262238,152479,56661,----------------------------------------------------------------------------------------------------\n",
      "\n",
      "Page 3611 Ligne 983\n",
      "2722260,733177,1226712,1130,149637,113821,25673,----------------------------------------------------------------------------------------------------\n",
      "\n",
      "Page 627 Ligne 226\n",
      "1618788,2349567,679460,1130,186152,85181,28848,----------------------------------------------------------------------------------------------------\n",
      "\n",
      "Page 3094 Ligne 809\n",
      "4170083,1040165,804933,1130,105355,37593,50833,----------------------------------------------------------------------------------------------------\n",
      "\n",
      "Page 4783 Ligne 282\n",
      "4887275,279258,834828,1130,11497,40610,58094,----------------------------------------------------------------------------------------------------\n",
      "\n",
      "Page 683 Ligne 812\n",
      "3886270,1921788,29238,1130,156754,69054,31869,----------------------------------------------------------------------------------------------------\n",
      "\n",
      "Page 2609 Ligne 891\n",
      "4537907,1454445,95961,1130,121818,126865,60410,----------------------------------------------------------------------------------------------------\n",
      "\n",
      "Page 2470 Ligne 517\n",
      "3956258,2462362,630383,1130,32004,13426,35198,----------------------------------------------------------------------------------------------------\n",
      "\n",
      "Page 1951 Ligne 864\n",
      "2867317,1694966,298874,1130,161048,18506,66001,----------------------------------------------------------------------------------------------------\n",
      "\n",
      "Page 1600 Ligne 200\n",
      "1065545,2255766,1061647,1130,302315,118575,35168,----------------------------------------------------------------------------------------------------\n",
      "\n"
     ]
    }
   ],
   "source": [
    "def incremente_index(index, table, v, numero_attribut=2):\n",
    "    \"\"\"\n",
    "    incrémentation d'un attribut clé d'index \n",
    "    :param index : dictionnaire d'index\n",
    "    :param table : nom de la table\n",
    "    :param v: valeur d'index pour laquelle modifier la ligne\n",
    "    :param numero_attribut : numero de l'attribut à incrémenter\n",
    "    \"\"\"\n",
    "    # l'attribut modifié est l'attribut indexé\n",
    "    # on utilise des index non uniques\n",
    "    rowid = index[v]\n",
    "    index[v] = []\n",
    "    if index.get(v + 1, None) is None:\n",
    "        index[v + 1] = []\n",
    "    index[v + 1] = index[v + 1] + rowid\n",
    "    \n",
    "    _incremente(table, rowid, numero_attribut)\n",
    "        \n",
    "    return index\n",
    "    \n",
    "    \n",
    "s = np.random.randint(nb_valeurs_distinctes / 4)\n",
    "print('Valeur de la clé :', s)\n",
    "\n",
    "print('\\nLecture du tuple avant modification :')\n",
    "for ri in INDEX_a3[s]:\n",
    "    print(lecture_tuple(TABLE, *ri))\n",
    "\n",
    "# modification\n",
    "INDEX_a3_2 = incremente_index(INDEX_a3, TABLE, s)\n",
    "\n",
    "print('\\nLecture du tuple après modification pour la valeur :', s)\n",
    "for ri in INDEX_a3_2[s]:\n",
    "    print(lecture_tuple(TABLE, *ri))\n",
    "\n",
    "print('\\nLecture du tuple après modification pour la valeur :', s + 1)\n",
    "for ri in INDEX_a3_2[s + 1]:\n",
    "    print(lecture_tuple(TABLE, *ri))"
   ]
  },
  {
   "cell_type": "markdown",
   "metadata": {
    "id": "as_W7xmOKc3l"
   },
   "source": [
    "# IX. Persistence\n",
    "\n",
    "Dans cette partie, on veut rendre les index persistents en les stockant dans des pages. Cela permet d'utiliser les index plus efficacement sans les recréer entièrement."
   ]
  },
  {
   "cell_type": "markdown",
   "metadata": {
    "id": "Uy8NE3x5KgLj"
   },
   "source": [
    "## IX. 1. Stockage d'un index unique\n",
    "\n",
    "Proposer une solution pour stocker les entrées triées d'un index unique dans plusieurs pages avec une taille de page fixée (500 entrées par page,  soit 500 clés + 500 rowid)."
   ]
  },
  {
   "cell_type": "code",
   "execution_count": 31,
   "metadata": {
    "colab": {
     "base_uri": "https://localhost:8080/"
    },
    "id": "VqSClCOgKl6a",
    "outputId": "60cc08ff-57c6-4b59-edce-caf565be2985"
   },
   "outputs": [
    {
     "name": "stdout",
     "output_type": "stream",
     "text": [
      "index dans : T_unique_index\n",
      "Nombre de pages d index : 10000\n"
     ]
    }
   ],
   "source": [
    "def index_unique_dir_name(fichier):\n",
    "    return fichier.split('.')[0] + \"_unique_index\"\n",
    "\n",
    "def decoupe_index_unique_en_pages(fichier, nb_tuple_par_page=500):\n",
    "    index_dir = index_unique_dir_name(fichier)\n",
    "    index = creation_index_unique(fichier)\n",
    "    print(\"index dans :\", index_dir)\n",
    "    if(os.path.exists(index_dir)):\n",
    "        sh.rmtree(index_dir)\n",
    "    os.makedirs(index_dir, exist_ok=True)\n",
    "    \n",
    "    items = list(index.items())\n",
    "    items.sort()\n",
    "    nb_i = len(items)\n",
    "    \n",
    "    nb_t = 0\n",
    "    index_n = 0\n",
    "    for i in range(nb_tuple_par_page, nb_i, nb_tuple_par_page):\n",
    "        index_n += 1\n",
    "        a = items[i - nb_tuple_par_page : i]\n",
    "        lines = list(map(lambda x: ','.join([str(x[0]), str(x[1][0]), str(x[1][1])]) + '\\n', a))\n",
    "        # nouveau fichier\n",
    "        with open(index_dir + \"/index\" + str(index_n), 'w') as fi:\n",
    "            fi.write(''.join(lines))\n",
    "        nb_t += nb_tuple_par_page\n",
    "    # prise en compte des index restants -> page non pleine\n",
    "    if nb_t < nb_i:\n",
    "        index_n += 1\n",
    "        a = items[nb_t :]\n",
    "        lines = list(map(lambda x: ','.join([str(x[0]), str(x[1][0]), str(x[1][1])]) + '\\n', a))\n",
    "        # nouveau fichier\n",
    "        with open(index_dir + \"/index\" + str(index_n), 'w') as fi:\n",
    "            fi.write(''.join(lines))\n",
    "        nb_t = nb_i\n",
    "        \n",
    "    print('Nombre de pages d index :', index_n)\n",
    "\n",
    "decoupe_index_unique_en_pages(TABLE)"
   ]
  },
  {
   "cell_type": "markdown",
   "metadata": {
    "id": "_aKuhJaDloKO"
   },
   "source": [
    "## IX. 2. Stockage d'un index non unique\n",
    "Proposer une solution pour stocker les entrées triées d'un index non unique dans plusieurs pages avec une taille de page fixée. Dans une page, le total du nombre  de clés + le nombre de rowid ne peut pas dépasser 1000."
   ]
  },
  {
   "cell_type": "code",
   "execution_count": 32,
   "metadata": {
    "colab": {
     "base_uri": "https://localhost:8080/"
    },
    "id": "7OF1Csmi0nyh",
    "outputId": "2d43d801-c499-4eca-b518-576ae556c67e"
   },
   "outputs": [
    {
     "name": "stdout",
     "output_type": "stream",
     "text": [
      "index dans : T_2_index\n",
      "Nombre de pages d index : 2455\n"
     ]
    }
   ],
   "source": [
    "def index_dir_name(fichier, numero_attribut):\n",
    "    return fichier.split('.')[0] + \"_\" + str(numero_attribut) + \"_index\"\n",
    "\n",
    "def rowid_to_line(key, values):\n",
    "    # tranforme des rowid en une ligne à écrire\n",
    "    # le nombre de valeurs est considéré inférieur à nb_rowid_par_tuple\n",
    "    # renvoie la ligne\n",
    "    line = [str(key)] + list(map(lambda v: str(v)[1:-1], values))\n",
    "    line = ';'.join(line) + '\\n'\n",
    "    return line\n",
    "\n",
    "def decoupe_index_en_pages(fichier, numero_attribut, nb_tuple_par_page=500, nb_rowid_par_tuple=1000):\n",
    "    \n",
    "    index = creation_index(fichier, numero_attribut)\n",
    "    items = list(index.items())\n",
    "    items.sort()\n",
    "\n",
    "    lines = [] # buffer des lignes à écrire\n",
    "    \n",
    "    # récupération des lignes\n",
    "    for key, values in items:\n",
    "        \n",
    "        if len(values) <= nb_rowid_par_tuple:\n",
    "            # le nombre de rowids peut tenir en une ligne\n",
    "            line = rowid_to_line(key, values) \n",
    "            lines.append(line)\n",
    "            \n",
    "        else:\n",
    "            # le nombre de rowids est grand, on les écrits par paquets de 1000\n",
    "            for step in range(nb_rowid_par_tuple, len(values) + 1, nb_rowid_par_tuple):\n",
    "                line = rowid_to_line(key, values[step - nb_rowid_par_tuple : step])\n",
    "                lines.append(line)\n",
    "                \n",
    "            # il reste encore des rowids à écrire\n",
    "            diff = len(values) % nb_rowid_par_tuple\n",
    "            if diff > 0:\n",
    "                line = rowid_to_line(key, values[-diff:]) \n",
    "                lines.append(line)\n",
    "        \n",
    "        \n",
    "    index_dir = index_dir_name(fichier, numero_attribut)\n",
    "    print(\"index dans :\", index_dir)\n",
    "                \n",
    "    if(os.path.exists(index_dir)):\n",
    "        sh.rmtree(index_dir)\n",
    "    os.makedirs(index_dir, exist_ok=True)    \n",
    "    \n",
    "    nb_t = 0    # numéro du tuple\n",
    "    index_n = 0 # numéro de la page d'index\n",
    "    \n",
    "    # écriture des lignes\n",
    "    while len(lines) > 0:\n",
    "        # numéro de la page d'index\n",
    "        index_n += 1\n",
    "            \n",
    "        # nouveau fichier : écrire au maximum nb_tuple_par_page tuples\n",
    "        nb_tuples_ecrits = min( nb_tuple_par_page, len(lines) )\n",
    "        \n",
    "        with open(index_dir + \"/index\" + str(index_n), 'w') as fi:\n",
    "            fi.write(''.join(lines[:nb_tuples_ecrits]))\n",
    "        nb_t += nb_tuples_ecrits\n",
    "            \n",
    "        # avancement du pointeur d'écriture\n",
    "        if len(lines) > nb_tuples_ecrits:\n",
    "            lines = lines[nb_tuples_ecrits:]\n",
    "        else: # on a fini d'écrire\n",
    "            lines = []\n",
    "        \n",
    "    print('Nombre de pages d index :', index_n)\n",
    "\n",
    "decoupe_index_en_pages(TABLE, 2)"
   ]
  },
  {
   "cell_type": "markdown",
   "metadata": {
    "id": "SzDPXcGzKjKU"
   },
   "source": [
    "## IX. 3. Adapter en conséquence les opérations de modification de l'index"
   ]
  },
  {
   "cell_type": "markdown",
   "metadata": {
    "id": "oavs4DOd0nyi"
   },
   "source": [
    "### IX. 3. 1. Sélection d'une unique valeur"
   ]
  },
  {
   "cell_type": "code",
   "execution_count": 33,
   "metadata": {
    "id": "y9mXqJeFKmUE"
   },
   "outputs": [],
   "source": [
    "def selection_par_index_unique(fichier, valeur_recherchee, nb_tuple_par_page=500):\n",
    "    index_dir = index_unique_dir_name(fichier)\n",
    "    index_n = (valeur_recherchee // nb_tuple_par_page) + 1\n",
    "    \n",
    "    ip = -1\n",
    "    it = -1\n",
    "    with open(index_dir + \"/index\" + str(index_n), 'r') as fi:\n",
    "        for line in fi.readlines():\n",
    "            values = line.split(',')\n",
    "            key = int(values[0])\n",
    "            if key == valeur_recherchee:\n",
    "                ip = int(values[1])\n",
    "                it = int(values[2]) \n",
    "                break\n",
    "                \n",
    "    return (ip, it)"
   ]
  },
  {
   "cell_type": "code",
   "execution_count": 34,
   "metadata": {
    "colab": {
     "base_uri": "https://localhost:8080/"
    },
    "id": "DKz-aFnS0nyi",
    "outputId": "6a8fe5e0-bf6c-4fa1-b1ee-e26424f754f9"
   },
   "outputs": [
    {
     "name": "stdout",
     "output_type": "stream",
     "text": [
      "valeur recherchée : 66828\n",
      "Page : 2965\n",
      "Tuple : 237\n",
      "Page 2965 Ligne 237\n",
      "66828,924229,964792,263783,230860,54808,37525,----------------------------------------------------------------------------------------------------\n",
      "\n"
     ]
    }
   ],
   "source": [
    "s = np.random.randint(nb_valeurs_distinctes)\n",
    "print(\"valeur recherchée :\", s)\n",
    "\n",
    "ip, it = selection_par_index_unique(TABLE, s)\n",
    "print('Page :', ip)\n",
    "print('Tuple :', it)\n",
    "if ip != -1:\n",
    "    print(lecture_tuple(TABLE, ip, it))"
   ]
  },
  {
   "cell_type": "code",
   "execution_count": 35,
   "metadata": {
    "id": "NuFl6nbn0nyi"
   },
   "outputs": [],
   "source": [
    "def selection_par_index(fichier, numero_attribut, valeur_recherchee, \n",
    "                        nb_tuple_par_page=500, nb_rowid_par_tuple=1000):\n",
    "    \n",
    "    def flambda(v):\n",
    "        ip, it = v.split(',')\n",
    "        return (int(ip), int(it))\n",
    "    \n",
    "    index_dir = index_dir_name(fichier, numero_attribut)\n",
    "    nb_pages = len(os.listdir(index_dir))\n",
    "    \n",
    "    # index à partir duquel on est suceptible de trouver la valeur cherchée\n",
    "    index_n = 1\n",
    "    \n",
    "    rowid = []\n",
    "    # nécessité de probablement boucler sur les pages d'index\n",
    "    find = False # indique si la valeur a été trouvée\n",
    "    stop_read = False # indique si on doit arrêter de lire\n",
    "    \n",
    "    while index_n <= nb_pages:\n",
    "        \n",
    "        with open(index_dir + \"/index\" + str(index_n), 'r') as fi:\n",
    "            \n",
    "            for line in fi.readlines():\n",
    "                values = line.split(';')\n",
    "                key = int(values[0])\n",
    "                \n",
    "                # test de correspondance de la clé\n",
    "                if key == valeur_recherchee:\n",
    "                    rowid.extend(list(map(flambda, values[1:])))\n",
    "                    print(key)\n",
    "                    \n",
    "                    find = True\n",
    "                    \n",
    "                    # si le nombre d'élément de la ligne est inférieur à nb_rowid_par_tuple\n",
    "                    # il faut arrêter de lire\n",
    "                    # en effet, il n'y a donc plus de valeur qui nous intéresse\n",
    "                    if len(values[1:]) < nb_rowid_par_tuple:\n",
    "                        stop_read = True\n",
    "                        break\n",
    "        \n",
    "        if stop_read:\n",
    "            break\n",
    "        \n",
    "        # si on arrête pas de lire -> on passe à la page suivante\n",
    "        index_n += 1\n",
    "                \n",
    "    return rowid"
   ]
  },
  {
   "cell_type": "code",
   "execution_count": 36,
   "metadata": {
    "colab": {
     "base_uri": "https://localhost:8080/"
    },
    "id": "2mafOCip0nyi",
    "outputId": "6b6d75e2-824a-4cb0-ca40-4e139d99b166",
    "scrolled": false
   },
   "outputs": [
    {
     "name": "stdout",
     "output_type": "stream",
     "text": [
      "valeur recherchée : 21560\n",
      "21560\n",
      "Page 55 Ligne 404\n",
      "(55, 404) : 553958,2083264,21560,65554,40142,148793,38533,----------------------------------------------------------------------------------------------------\n",
      "\n",
      "Page 2014 Ligne 701\n",
      "(2014, 701) : 3878037,347405,21560,389389,183012,7700,37746,----------------------------------------------------------------------------------------------------\n",
      "\n"
     ]
    }
   ],
   "source": [
    "s = np.random.randint(nb_valeurs_distinctes)\n",
    "print(\"valeur recherchée :\", s)\n",
    "\n",
    "rowid = selection_par_index(TABLE, 2, s)\n",
    "for ri in rowid:\n",
    "    print(ri , ':', lecture_tuple(TABLE, *ri))"
   ]
  },
  {
   "cell_type": "markdown",
   "metadata": {
    "id": "deRqGxSI0nyi"
   },
   "source": [
    "### IX. 3. 2. Sélection d'une plage de valeurs"
   ]
  },
  {
   "cell_type": "code",
   "execution_count": 37,
   "metadata": {
    "id": "K37l3KYP0nyj"
   },
   "outputs": [],
   "source": [
    "def selection_plage_par_index_unique(fichier, borne_inf, borne_sup, nb_tuple_par_page=500):\n",
    "    index_dir = index_unique_dir_name(fichier)\n",
    "    rowid = []\n",
    "    \n",
    "    index_inf = (borne_inf // nb_tuple_par_page) + 1\n",
    "    index_sup = (borne_sup // nb_tuple_par_page) + 1\n",
    "    \n",
    "    for index_n in range(index_inf, index_sup + 1):\n",
    "        ip = -1\n",
    "        it = -1\n",
    "        with open(index_dir + \"/index\" + str(index_n), 'r') as fi:\n",
    "            for line in fi.readlines():\n",
    "                values = line.split(',')\n",
    "                key = int(values[0])\n",
    "                if borne_inf <= key <= borne_sup :\n",
    "                    ip = int(values[1])\n",
    "                    it = int(values[2])\n",
    "                    rowid.append((ip, it))\n",
    "                if key > borne_sup:\n",
    "                    break\n",
    "        \n",
    "    return rowid"
   ]
  },
  {
   "cell_type": "code",
   "execution_count": 38,
   "metadata": {
    "colab": {
     "base_uri": "https://localhost:8080/"
    },
    "id": "u2mqQY8m0nyj",
    "outputId": "104bf1b8-5ae9-4139-8580-a42a0c65992b"
   },
   "outputs": [
    {
     "name": "stdout",
     "output_type": "stream",
     "text": [
      "Page 1737 Ligne 189\n",
      "(1737, 189) : 43514,129876,1152118,586058,194900,51719,77144,----------------------------------------------------------------------------------------------------\n",
      "\n",
      "Page 1446 Ligne 857\n",
      "(1446, 857) : 43515,1710511,119603,241946,78704,143529,63801,----------------------------------------------------------------------------------------------------\n",
      "\n",
      "Page 479 Ligne 426\n",
      "(479, 426) : 43516,14431,1032797,456319,55708,65718,46416,----------------------------------------------------------------------------------------------------\n",
      "\n",
      "Page 2439 Ligne 627\n",
      "(2439, 627) : 43517,1199236,58258,108799,91540,13195,47884,----------------------------------------------------------------------------------------------------\n",
      "\n",
      "Page 2060 Ligne 832\n",
      "(2060, 832) : 43518,273290,239948,158812,56879,87999,442,----------------------------------------------------------------------------------------------------\n",
      "\n",
      "Page 4056 Ligne 282\n",
      "(4056, 282) : 43519,75810,1249139,354658,208150,38584,4262,----------------------------------------------------------------------------------------------------\n",
      "\n",
      "Page 1539 Ligne 938\n",
      "(1539, 938) : 43520,1744080,935651,337866,88776,150479,12288,----------------------------------------------------------------------------------------------------\n",
      "\n",
      "Page 2774 Ligne 703\n",
      "(2774, 703) : 43521,1881054,625435,103298,194055,149003,26749,----------------------------------------------------------------------------------------------------\n",
      "\n",
      "Page 2498 Ligne 640\n",
      "(2498, 640) : 43522,854187,386343,21118,198424,111895,60522,----------------------------------------------------------------------------------------------------\n",
      "\n",
      "Page 2972 Ligne 236\n",
      "(2972, 236) : 43523,727505,383882,237909,93272,33167,38140,----------------------------------------------------------------------------------------------------\n",
      "\n",
      "Page 3289 Ligne 149\n",
      "(3289, 149) : 43524,996351,1245927,605514,108722,122472,32171,----------------------------------------------------------------------------------------------------\n",
      "\n",
      "Page 3728 Ligne 608\n",
      "(3728, 608) : 43525,1181567,766473,580970,307047,340,18080,----------------------------------------------------------------------------------------------------\n",
      "\n",
      "Page 320 Ligne 868\n",
      "(320, 868) : 43526,1605831,746544,328703,163277,50208,4208,----------------------------------------------------------------------------------------------------\n",
      "\n",
      "Page 1326 Ligne 115\n",
      "(1326, 115) : 43527,1502264,339098,477798,79888,10472,58517,----------------------------------------------------------------------------------------------------\n",
      "\n",
      "Page 1739 Ligne 381\n",
      "(1739, 381) : 43528,365958,708190,130773,172764,150040,33400,----------------------------------------------------------------------------------------------------\n",
      "\n",
      "Page 4925 Ligne 261\n",
      "(4925, 261) : 43529,629979,1118861,431037,95803,44464,60020,----------------------------------------------------------------------------------------------------\n",
      "\n"
     ]
    }
   ],
   "source": [
    "rowid = selection_plage_par_index_unique(TABLE, 43514, 43529)\n",
    "for ri in rowid:\n",
    "    if ri[0] == -1: continue\n",
    "    print(ri, ':', lecture_tuple(TABLE, *ri))"
   ]
  },
  {
   "cell_type": "code",
   "execution_count": 39,
   "metadata": {
    "id": "Gqr5gX4A0nyj"
   },
   "outputs": [],
   "source": [
    "def selection_plage_par_index(fichier, numero_attribut, borne_inf, borne_sup, \n",
    "                        nb_tuple_par_page=500, nb_rowid_par_tuple=1000):\n",
    "    \n",
    "    def flambda(v):\n",
    "        ip, it = v.split(',')\n",
    "        return (int(ip), int(it))\n",
    "    \n",
    "    index_dir = index_dir_name(fichier, numero_attribut)\n",
    "    nb_pages = len(os.listdir(index_dir))\n",
    "    \n",
    "    # index à partir duquel on est suceptible de trouver la valeur cherchée\n",
    "    index_n = 1\n",
    "    \n",
    "    rowid = []\n",
    "    # nécessité de probablement boucler sur les pages d'index\n",
    "    find = False # indique si la valeur a été trouvée\n",
    "    stop_read = False # indique si on doit arrêter de lire\n",
    "    \n",
    "    while index_n <= nb_pages:\n",
    "        \n",
    "        with open(index_dir + \"/index\" + str(index_n), 'r') as fi:\n",
    "            \n",
    "            for line in fi.readlines():\n",
    "                values = line.split(';')\n",
    "                key = int(values[0])\n",
    "                \n",
    "                # test de correspondance de la clé\n",
    "                if borne_inf <= key <= borne_sup:\n",
    "                    rowid.extend(list(map(flambda, values[1:])))\n",
    "                    print(key)\n",
    "                    \n",
    "                    find = True\n",
    "                    \n",
    "                    # on arrête de lire si on sort de l'intervalle\n",
    "                    if key > borne_sup:\n",
    "                        stop_read = True\n",
    "                        break\n",
    "        \n",
    "        if stop_read:\n",
    "            break\n",
    "        \n",
    "        # si on arrête pas de lire -> on passe à la page suivante\n",
    "        index_n += 1\n",
    "                \n",
    "    return rowid"
   ]
  },
  {
   "cell_type": "code",
   "execution_count": 40,
   "metadata": {
    "colab": {
     "base_uri": "https://localhost:8080/"
    },
    "id": "9rxOyIu-0nyj",
    "outputId": "5e547fe1-f5e3-46e2-9dfa-286f92f0f508",
    "scrolled": false
   },
   "outputs": [
    {
     "name": "stdout",
     "output_type": "stream",
     "text": [
      "4351\n",
      "4352\n",
      "4353\n",
      "Page 1201 Ligne 537\n",
      "(1201, 537) : 3837548,1615715,4351,235279,254192,135134,52219,----------------------------------------------------------------------------------------------------\n",
      "\n",
      "Page 4369 Ligne 61\n",
      "(4369, 61) : 4470627,57466,4351,353414,194324,125411,55454,----------------------------------------------------------------------------------------------------\n",
      "\n",
      "Page 1649 Ligne 428\n",
      "(1649, 428) : 2708611,1257521,4351,261900,120435,89122,15214,----------------------------------------------------------------------------------------------------\n",
      "\n",
      "Page 4362 Ligne 677\n",
      "(4362, 677) : 2545246,266371,4351,109096,132200,71500,40296,----------------------------------------------------------------------------------------------------\n",
      "\n",
      "Page 824 Ligne 263\n",
      "(824, 263) : 37799,2412603,4352,226581,94653,133526,68498,----------------------------------------------------------------------------------------------------\n",
      "\n",
      "Page 1915 Ligne 524\n",
      "(1915, 524) : 3244117,386974,4352,145595,238877,55607,29893,----------------------------------------------------------------------------------------------------\n",
      "\n",
      "Page 2961 Ligne 353\n",
      "(2961, 353) : 1783968,2012764,4352,480337,61959,110068,48801,----------------------------------------------------------------------------------------------------\n",
      "\n",
      "Page 3450 Ligne 406\n",
      "(3450, 406) : 3989198,1221254,4352,8931,128633,23203,61694,----------------------------------------------------------------------------------------------------\n",
      "\n",
      "Page 2224 Ligne 324\n",
      "(2224, 324) : 3184398,195865,4352,269880,109791,131342,13188,----------------------------------------------------------------------------------------------------\n",
      "\n",
      "Page 79 Ligne 551\n",
      "(79, 551) : 4376019,2397567,4353,297891,230363,22079,11083,----------------------------------------------------------------------------------------------------\n",
      "\n",
      "Page 2078 Ligne 956\n",
      "(2078, 956) : 3846315,1626139,4353,296484,210399,87968,4087,----------------------------------------------------------------------------------------------------\n",
      "\n"
     ]
    }
   ],
   "source": [
    "rowid = selection_plage_par_index(TABLE, 2, 4351, 4353)\n",
    "for ri in rowid:\n",
    "    if ri[0] == -1: continue\n",
    "    print(ri, ':', lecture_tuple(TABLE, *ri))"
   ]
  },
  {
   "cell_type": "markdown",
   "metadata": {
    "id": "T2xbVnf00nyj"
   },
   "source": [
    "### IX. 3. 3. Mise à jour d'un index"
   ]
  },
  {
   "cell_type": "markdown",
   "metadata": {
    "id": "Mht_o3K30nyk"
   },
   "source": [
    "#### a. Modification d'un seul tuple"
   ]
  },
  {
   "cell_type": "code",
   "execution_count": 41,
   "metadata": {
    "colab": {
     "base_uri": "https://localhost:8080/"
    },
    "id": "NU35CauR0nyk",
    "outputId": "8b09a190-6754-42b9-80a5-3c2c337eedce"
   },
   "outputs": [
    {
     "name": "stdout",
     "output_type": "stream",
     "text": [
      "Valeur de la clé : 10671\n",
      "\n",
      "Lecture du tuple avant modification :\n",
      "Page 63 Ligne 201\n",
      "10671,2283208,1080928,19865,14913,46732,22780,----------------------------------------------------------------------------------------------------\n",
      "\n",
      "page63\n",
      "\n",
      "Lecture du tuple après modification :\n",
      "Page 63 Ligne 201\n",
      "10671,2283209,1080928,19865,14913,46732,22780,----------------------------------------------------------------------------------------------------\n",
      "\n"
     ]
    }
   ],
   "source": [
    "def incremente_persistence_unique(table, valeur, numero_attribut=1, nb_tuple_par_page=500):\n",
    "    # table : nom de la table\n",
    "    # valeur de l'index \n",
    "    # numéro de l'attribut à incrémenter != 0\n",
    "    # att = 0 : utiliser incremente_index_persistence\n",
    "    assert numero_attribut != 0, 'Pour modifier la clé unique, utilisez la fonction incremente_index_persistence'\n",
    "    \n",
    "    # rowid à modifier\n",
    "    (ip, it) = selection_par_index_unique(table, valeur, nb_tuple_par_page)\n",
    "    \n",
    "    # modification du tuple si il existe\n",
    "    if ip == -1: return\n",
    "     \n",
    "    _incremente_unique(table, ip, it, numero_attribut)\n",
    "    \n",
    "\n",
    "s = np.random.randint(nb_valeurs_distinctes / 4)\n",
    "ri = selection_par_index_unique(TABLE, s)\n",
    "\n",
    "print('Valeur de la clé :', s)\n",
    "print('\\nLecture du tuple avant modification :')\n",
    "print(lecture_tuple(TABLE, *ri))\n",
    "\n",
    "# modification\n",
    "incremente_persistence_unique(TABLE, s)\n",
    "\n",
    "print('\\nLecture du tuple après modification :')\n",
    "print(lecture_tuple(TABLE, *ri))"
   ]
  },
  {
   "cell_type": "markdown",
   "metadata": {
    "id": "_JEbkkrZ0nyk"
   },
   "source": [
    "#### b. Modification de plusieurs tuples"
   ]
  },
  {
   "cell_type": "code",
   "execution_count": 42,
   "metadata": {
    "colab": {
     "base_uri": "https://localhost:8080/"
    },
    "id": "5e5ccXNa0nyk",
    "outputId": "5d3acb03-2dd8-4057-aa73-9708e48160d6"
   },
   "outputs": [
    {
     "name": "stdout",
     "output_type": "stream",
     "text": [
      "Valeur de la clé : 8107\n",
      "8107\n",
      "\n",
      "Lecture du tuple avant modification :\n",
      "Page 3577 Ligne 102\n",
      "2207675,1077769,8107,133255,4034,42153,36240,----------------------------------------------------------------------------------------------------\n",
      "\n",
      "Page 3763 Ligne 478\n",
      "3558376,603401,8107,374786,302100,126372,12417,----------------------------------------------------------------------------------------------------\n",
      "\n",
      "Page 3788 Ligne 270\n",
      "219282,146087,8107,293554,207272,48841,68221,----------------------------------------------------------------------------------------------------\n",
      "\n",
      "Page 2724 Ligne 123\n",
      "3640551,419499,8107,230771,236433,49325,25125,----------------------------------------------------------------------------------------------------\n",
      "\n",
      "8107\n",
      "page3577\n",
      "page3763\n",
      "page3788\n",
      "page2724\n",
      "\n",
      "Lecture du tuple après modification :\n",
      "Page 3577 Ligne 102\n",
      "2207675,1077769,8107,133256,4034,42153,36240,----------------------------------------------------------------------------------------------------\n",
      "\n",
      "Page 3763 Ligne 478\n",
      "3558376,603401,8107,374787,302100,126372,12417,----------------------------------------------------------------------------------------------------\n",
      "\n",
      "Page 3788 Ligne 270\n",
      "219282,146087,8107,293555,207272,48841,68221,----------------------------------------------------------------------------------------------------\n",
      "\n",
      "Page 2724 Ligne 123\n",
      "3640551,419499,8107,230772,236433,49325,25125,----------------------------------------------------------------------------------------------------\n",
      "\n"
     ]
    }
   ],
   "source": [
    "def incremente_persistence(table, valeur, numero_attribut_index=2, numero_attribut_a_modifier=3,\n",
    "                           nb_tuple_par_page=500, nb_rowid_par_tuple=1000):\n",
    "    \n",
    "    assert numero_attribut_index != numero_attribut_a_modifier, 'Pour modifier la clé, utilisez la fonction incremente_index_persistence'\n",
    "    \n",
    "    # liste des rowid à modifier\n",
    "    rowid = selection_par_index(table, numero_attribut_index, valeur,\n",
    "                                nb_tuple_par_page, nb_rowid_par_tuple)\n",
    "    \n",
    "    _incremente(table, rowid, numero_attribut_a_modifier)\n",
    "    \n",
    "s = np.random.randint(nb_valeurs_distinctes / 4)\n",
    "print('Valeur de la clé :', s)\n",
    "\n",
    "rowid = selection_par_index(TABLE, 2, s)\n",
    "\n",
    "print('\\nLecture du tuple avant modification :')\n",
    "for ri in rowid:\n",
    "    print(lecture_tuple(TABLE, *ri))\n",
    "\n",
    "# modification\n",
    "incremente_persistence(TABLE, s)\n",
    "\n",
    "print('\\nLecture du tuple après modification :')\n",
    "for ri in rowid:\n",
    "    print(lecture_tuple(TABLE, *ri))"
   ]
  },
  {
   "cell_type": "markdown",
   "metadata": {
    "id": "9kyFxj6k0nyk"
   },
   "source": [
    "#### c. Modification d'un attribut indexé (non unique)"
   ]
  },
  {
   "cell_type": "code",
   "execution_count": 43,
   "metadata": {
    "colab": {
     "base_uri": "https://localhost:8080/"
    },
    "id": "4Bo7dQad0nyk",
    "outputId": "9f8ead0b-8b99-4be0-8013-52b8827381f5"
   },
   "outputs": [
    {
     "name": "stdout",
     "output_type": "stream",
     "text": [
      "Valeur de la clé : 5290\n",
      "5290\n",
      "\n",
      "Lecture du tuple avant modification :\n",
      "Page 44 Ligne 623\n",
      "4501536,1378801,5290,298882,184017,63502,3132,----------------------------------------------------------------------------------------------------\n",
      "\n",
      "Page 4247 Ligne 42\n",
      "1940704,1160647,5290,541410,99634,77496,48741,----------------------------------------------------------------------------------------------------\n",
      "\n",
      "5290\n",
      "page44\n",
      "page4247\n",
      "5290\n",
      "\n",
      "Lecture du tuple après modification pour la valeur : 5290\n",
      "Page 44 Ligne 623\n",
      "4501536,1378801,5291,298882,184017,63502,3132,----------------------------------------------------------------------------------------------------\n",
      "\n",
      "Page 4247 Ligne 42\n",
      "1940704,1160647,5291,541410,99634,77496,48741,----------------------------------------------------------------------------------------------------\n",
      "\n",
      "5291\n",
      "\n",
      "Lecture du tuple après modification pour la valeur : 5291\n",
      "Page 571 Ligne 859\n",
      "2393429,1938087,5291,566032,299649,127985,32887,----------------------------------------------------------------------------------------------------\n",
      "\n",
      "Page 3461 Ligne 689\n",
      "1575576,2367549,5291,369886,267303,38724,43691,----------------------------------------------------------------------------------------------------\n",
      "\n",
      "Page 4597 Ligne 269\n",
      "768078,1561358,5291,511209,303993,142281,9461,----------------------------------------------------------------------------------------------------\n",
      "\n",
      "Page 4552 Ligne 78\n",
      "4753603,2454811,5291,576011,72800,112593,13737,----------------------------------------------------------------------------------------------------\n",
      "\n"
     ]
    }
   ],
   "source": [
    "def incremente_index_persistence(table, valeur, numero_attribut=2, \n",
    "                                nb_tuple_par_page=500, nb_rowid_par_tuple=1000):\n",
    "    \n",
    "    rowid = selection_par_index(table, numero_attribut, valeur,\n",
    "                                nb_tuple_par_page, nb_rowid_par_tuple)\n",
    "    \n",
    "    _incremente(table, rowid, numero_attribut)\n",
    "    \n",
    "    # modification de l'index \n",
    "    # pour des raisons de simplification : on va juste changer la clé valeur par la clé valeur + 1\n",
    "    \n",
    "    index_dir = index_dir_name(fichier, numero_attribut)\n",
    "    nb_pages = len(os.listdir(index_dir))\n",
    "    \n",
    "    # index à partir duquel on est suceptible de trouver la valeur cherchée\n",
    "    index_n = 1\n",
    "    \n",
    "    # nécessité de probablement boucler sur les pages d'index\n",
    "    stop_read = False # indique si on doit arrêter de lire\n",
    "    updated = False # indique si la page en cours de lecture a été modifiée\n",
    "    \n",
    "    while index_n <= nb_pages:\n",
    "        \n",
    "        updated = False\n",
    "        \n",
    "        file = open(index_dir + \"/index\" + str(index_n), 'r+')\n",
    "        lines = file.readlines()\n",
    "            \n",
    "        for it, line in enumerate(lines):\n",
    "            values = line.split(';')\n",
    "            key = int(values[0])\n",
    "                \n",
    "            # test de correspondance de la clé\n",
    "            if key == valeur:\n",
    "                # if faut modifier la valeur de la clé\n",
    "                values[0] = str( int(values[0]) + 1 )\n",
    "                lines[it] = ';'.join(values)\n",
    "                \n",
    "                # cette page de l'index doit être réécrite\n",
    "                updated = True\n",
    "                    \n",
    "            # si le nombre d'élément de la ligne est inférieur à nb_rowid_par_tuple\n",
    "            # il faut arrêter de lire\n",
    "            # en effet, il n'y a donc plus de valeur qui nous intéresse\n",
    "            if len(values[1:]) < nb_rowid_par_tuple:\n",
    "                stop_read = True\n",
    "                break\n",
    "        \n",
    "        if updated:\n",
    "            file.seek(0)\n",
    "            file.writelines(lines)\n",
    "            file.close()\n",
    "        \n",
    "        if stop_read:\n",
    "            break\n",
    "        \n",
    "        # si on arrête pas de lire -> on passe à la page suivante\n",
    "        index_n += 1\n",
    "\n",
    "s = np.random.randint(nb_valeurs_distinctes / 4)\n",
    "print('Valeur de la clé :', s)\n",
    "\n",
    "rowid = selection_par_index(TABLE, 2, s)\n",
    "print('\\nLecture du tuple avant modification :')\n",
    "for ri in rowid:\n",
    "    print(lecture_tuple(TABLE, *ri))\n",
    "\n",
    "# modification\n",
    "incremente_index_persistence(TABLE, s)\n",
    "\n",
    "rowid = selection_par_index(TABLE, 2, s)\n",
    "print('\\nLecture du tuple après modification pour la valeur :', s)\n",
    "for ri in rowid:\n",
    "    print(lecture_tuple(TABLE, *ri))\n",
    "\n",
    "rowid = selection_par_index(TABLE, 2, s + 1)\n",
    "print('\\nLecture du tuple après modification pour la valeur :', s + 1)\n",
    "for ri in rowid:\n",
    "    print(lecture_tuple(TABLE, *ri))"
   ]
  },
  {
   "cell_type": "markdown",
   "metadata": {
    "id": "NYiNNktwEQsr"
   },
   "source": [
    "# Questions facultatives\n",
    "\n",
    "## Index bitmap\n",
    "*   Proposer un index ayant une structure \"bitmap\" pour l'attribut $a_5$. Idem pour l'attribut $a_6$. \n",
    "*   En utilisant les 2 index bitmap, rechercher les tuples de T tels que $a_5 = v_1$ et $a_6 = v_2$ pour deux valeurs $v_1, v_2$ appartenant au domaine de $a_5 \\cap a_6$ ."
   ]
  },
  {
   "cell_type": "code",
   "execution_count": 44,
   "metadata": {
    "id": "2K_zNPHN0nyl"
   },
   "outputs": [],
   "source": [
    "def bitmap(index, valeur):\n",
    "    # bitmap = liste des pages à charger\n",
    "    # pour simplifier, on va rendre un dictionnaire\n",
    "    # également on se limite aux requêtes d'égalité\n",
    "    rowid = index.get(valeur, None)\n",
    "    if rowid is None: return {}\n",
    "    \n",
    "    rowid_dict = {}\n",
    "    for (ip, it) in rowid:\n",
    "        if not ip in rowid_dict:\n",
    "            rowid_dict[ip] = []\n",
    "        rowid_dict[ip] = rowid_dict[ip] + [it]\n",
    "        \n",
    "    return rowid_dict"
   ]
  },
  {
   "cell_type": "code",
   "execution_count": 45,
   "metadata": {
    "id": "eHvJJ-BB0nyl"
   },
   "outputs": [],
   "source": [
    "INDEX_a5 = creation_index(TABLE, 5)\n",
    "INDEX_a6 = creation_index(TABLE, 6)"
   ]
  },
  {
   "cell_type": "code",
   "execution_count": 46,
   "metadata": {
    "id": "embQlGaY0nyl"
   },
   "outputs": [],
   "source": [
    "def bitmap_jointure(index1, valeur1, index2, valeur2):\n",
    "    bitmap1 = bitmap(index1, valeur1)\n",
    "    #print('Index 1', bitmap1)\n",
    "    bitmap2 = bitmap(index2, valeur2)\n",
    "    #print('Index 2', bitmap2)\n",
    "    \n",
    "    items1 = [(ip, it1) for ip, it in bitmap1.items() for it1 in it]\n",
    "    items2 = [(ip, it2) for ip, it in bitmap2.items() for it2 in it]\n",
    "    \n",
    "    rowid = []\n",
    "    for ip, it in items1:\n",
    "        if not (ip, it) in items2: continue\n",
    "        print('Page', ip)\n",
    "        rowid.append((ip, it))\n",
    "        \n",
    "    return rowid"
   ]
  },
  {
   "cell_type": "code",
   "execution_count": 47,
   "metadata": {
    "colab": {
     "base_uri": "https://localhost:8080/"
    },
    "id": "uBtUs0Fi0nyl",
    "outputId": "c8c38efc-d63c-4a42-f3af-c6a603317fce"
   },
   "outputs": [
    {
     "name": "stdout",
     "output_type": "stream",
     "text": [
      "Valeur de la clé pour a5: 18073\n",
      "Valeur de la clé pour a5: 45862\n",
      "Résultats\n"
     ]
    }
   ],
   "source": [
    "# pour que le test renvoie des résultats, \n",
    "# il est nécessaire de chercher les tuples où la jointure est vraie\n",
    "valeur1 = 18073\n",
    "print('Valeur de la clé pour a5:', valeur1)\n",
    "\n",
    "valeur2 = 45862\n",
    "print('Valeur de la clé pour a5:', valeur2)\n",
    "\n",
    "rowid = bitmap_jointure(INDEX_a5, valeur1, INDEX_a6, valeur2)\n",
    "print('Résultats')\n",
    "for ri in rowid:\n",
    "    print(lecture_tuple(TABLE, *ri))"
   ]
  },
  {
   "cell_type": "markdown",
   "metadata": {
    "id": "7QfLfOH20nyl"
   },
   "source": [
    "## Index couvrant une requête\n",
    "* Illustrer les cas vus en TD."
   ]
  },
  {
   "cell_type": "code",
   "execution_count": 50,
   "metadata": {
    "id": "xoHe9LJU0nym"
   },
   "outputs": [],
   "source": [
    "import itertools\n",
    "\n",
    "def creation_index_compose(table, attributs):\n",
    "    \"\"\"\n",
    "    :param table : nom de la table\n",
    "    :param attrs : liste des numéros d'attributs -> dans l'ordre\n",
    "        \n",
    "    >>> index = IndexCompose(TABLE, [3, 2, 6])\n",
    "    \"\"\"\n",
    "    taille = len(attributs)\n",
    "        \n",
    "    values = {}\n",
    "        \n",
    "    page_dir = page_dir_name(table)\n",
    "    for page in os.listdir(page_dir):\n",
    "        ip = int(page[4:])\n",
    "        with open(page_dir + \"/\" + page, 'r') as file:\n",
    "            for it, line in enumerate(file.readlines()):\n",
    "                split = line.split(',')\n",
    "                values[(ip, it)] = [int(split[att]) for att in attributs]\n",
    "                    \n",
    "    all_rowid_array = np.array( list(values.keys()) )\n",
    "    values_array = np.array( list(values.values()) )\n",
    "    \n",
    "        \n",
    "    uniques = []      # valeurs uniques pour chaque attribut\n",
    "    shape = []        # taille de l'index\n",
    "    for i, att in enumerate(attributs):\n",
    "        u = np.unique(values_array[:, i]) \n",
    "        print(u)\n",
    "        uniques.append(u)\n",
    "        shape.append(len(u))\n",
    "        \n",
    "    shape.append(1) # l'axe de stockage de la liste des rowid\n",
    "    print(shape)\n",
    "        \n",
    "    index = np.zeros(shape, dtype=object)\n",
    "        \n",
    "    # toutes les combinaisons possibles des valeurs uniques\n",
    "    combs = itertools.product(*uniques)\n",
    "\n",
    "    # pour chaque combinaison, récupérer les rowid et les stocker dans l'index\n",
    "    for comb in combs:\n",
    "        rowid = []\n",
    "        mask = np.all(values_array == comb, axis=1)\n",
    "        idx = np.where(mask)[0].tolist()\n",
    "        for i in idx: rowid.append(all_rowid_array[i])\n",
    "        rowid.sort()\n",
    "        index[comb] = rowid\n",
    "        \n",
    "    struct = {\n",
    "        'attributs': attributs,\n",
    "        'taille': taille,\n",
    "        'index' : index,\n",
    "        'uniques': uniques\n",
    "    }\n",
    "            \n",
    "    return struct"
   ]
  },
  {
   "cell_type": "code",
   "execution_count": null,
   "metadata": {
    "colab": {
     "base_uri": "https://localhost:8080/"
    },
    "id": "FhsKL1o50nym",
    "outputId": "12c72d05-93c2-440e-aaf1-305aaa661721"
   },
   "outputs": [
    {
     "name": "stdout",
     "output_type": "stream",
     "text": [
      "[      0       1       2 ... 1249997 1249998 1249999]\n",
      "[     0      1      2 ... 156247 156248 156249]\n",
      "[1227003, 156250, 1]\n"
     ]
    }
   ],
   "source": [
    "index_struct = creation_index_compose(TABLE, [2, 5])"
   ]
  },
  {
   "cell_type": "code",
   "execution_count": null,
   "metadata": {
    "id": "5LN3U3sK0nym"
   },
   "outputs": [],
   "source": [
    "def select(index_struct, valeurs):\n",
    "    \"\"\"\n",
    "    :param index_struct : index composé\n",
    "    :param valeurs : liste des valeurs pour les attributs\n",
    "    :return liste des rowid (ip, it) qui satisfont la requête\n",
    "        \n",
    "    SELECT * WHERE a3 = 1 AND a2 = 4\n",
    "        \n",
    "    >>> rowid = index.select([1, 4])\n",
    "    \"\"\"\n",
    "    attributs = index_struct['attributs']\n",
    "    taille = index_struct['taille']\n",
    "    index = index_struct['index']\n",
    "    uniques = index_struct['uniques']\n",
    "\n",
    "    # récupération des cellules de l'index\n",
    "    where = []\n",
    "    for i, v in enumerate(valeurs):\n",
    "        ui = np.where(uniques[i] == v)[0]\n",
    "        \n",
    "        # si la valeur n'existe pas, pas de résultat pour la requête\n",
    "        if len(ui) == 0: return []\n",
    "\n",
    "        where.append(ui[0])\n",
    "\n",
    "    res = list(index[where].flatten()) # mise à plat des résultats\n",
    "    # fusion des listes\n",
    "    return list(itertools.chain(*res))"
   ]
  }
 ],
 "metadata": {
  "colab": {
   "provenance": []
  },
  "kernelspec": {
   "display_name": "Python 3 (ipykernel)",
   "language": "python",
   "name": "python3"
  },
  "language_info": {
   "codemirror_mode": {
    "name": "ipython",
    "version": 3
   },
   "file_extension": ".py",
   "mimetype": "text/x-python",
   "name": "python",
   "nbconvert_exporter": "python",
   "pygments_lexer": "ipython3",
   "version": "3.9.13"
  }
 },
 "nbformat": 4,
 "nbformat_minor": 1
}
