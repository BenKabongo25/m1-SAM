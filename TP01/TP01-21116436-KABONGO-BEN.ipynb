{
 "cells": [
  {
   "cell_type": "markdown",
   "metadata": {
    "id": "vZzLUr_l_Wfb"
   },
   "source": [
    "# SAM: TP1 Accès aux données avec index \n",
    "\n",
    "Sujet pour étudiants\n",
    "\n",
    "date de modification : 26/01/2023 16h\n",
    "\n",
    "NOM: **KABONGO BUZANGU**\n",
    "\n",
    "Prénom: **Ben**"
   ]
  },
  {
   "cell_type": "markdown",
   "metadata": {
    "id": "4TJrAm4JFr9V"
   },
   "source": [
    "Objectifs:\n",
    "Savoir organiser des données en pages pour permettre de modifier un tuple en ne modifiant qu'une seule page.\n",
    "\n",
    "Comprendre les méthodes d'accès suivantes :\n",
    "\n",
    "*   Lecture séquentielle d'une fichier : \"table access full\"\n",
    "*   Lecture d'un tuple dont on connait le rowid : \"table access by index rowid\"\n",
    "*   Opération de sélection par lecture séquentielle et filtrage \n",
    "\n",
    "Comprendre les méthodes d'indexation :\n",
    "\n",
    "*   Créer un index\n",
    "*   Opération de Sélection par index et lecture par rowid\n",
    "\n",
    "Mise à jour de données\n",
    "*   Sélectionner un tuple et modifier un de ses attributs\n",
    "*   Modifier l'index en conséquence lorsque l'attibut modifié est indexé\n",
    "\n",
    "Persistence\n",
    "*   Stocker un index (dans plusieurs pages) pour le reconstruire plus rapidement\n",
    "*   Adapter en conséquence les opérations de modification de l'index\n"
   ]
  },
  {
   "cell_type": "code",
   "execution_count": 10,
   "metadata": {
    "id": "aodlGU01gLqK"
   },
   "outputs": [],
   "source": [
    "import os\n",
    "import shutil as sh\n",
    "import numpy as np\n",
    "import random\n",
    "from random import choice\n",
    "from string import ascii_lowercase\n",
    "import time\n",
    "import tqdm\n",
    "\n",
    "DATA = \"data.csv\""
   ]
  },
  {
   "cell_type": "markdown",
   "metadata": {
    "id": "cRKX2fgx_gYT"
   },
   "source": [
    "# Générer un fichier"
   ]
  },
  {
   "cell_type": "markdown",
   "metadata": {
    "id": "ezxoKUCxtASX"
   },
   "source": [
    "Création du fichier"
   ]
  },
  {
   "cell_type": "code",
   "execution_count": 2,
   "metadata": {
    "id": "TIvmnhsTryK4"
   },
   "outputs": [],
   "source": [
    "# dure environ 40s pour 5M lignes\n",
    "\n",
    "nb_lines = 5 * 1000 * 1000\n",
    "# nb_lines = 100\n",
    "nb_attributes = 7\n",
    "\n",
    "longueur_attribut = 100\n",
    "# string_val = \"\".join(choice(ascii_lowercase) for i in range(longueur_attribut))\n",
    "long_string = ''.join('-' for i in range(longueur_attribut))\n",
    "\n",
    "# a=[np.random.randint(0, int(nb_lines/(10**i)), nb_lines) for i in range(nb_attributes)]\n",
    "nb_valeurs_distinctes = nb_lines\n",
    "\n",
    "# le premier attribut est unique\n",
    "a = [random.sample(range(nb_valeurs_distinctes), nb_lines)]\n",
    "\n",
    "# les attributs suivants ont des domaines plus petits\n",
    "for i in range(1, nb_attributes):\n",
    "    nb_valeurs_distinctes = max(2, int(nb_valeurs_distinctes / 2))\n",
    "    a.append(np.random.randint(0, nb_valeurs_distinctes, nb_lines))\n",
    "\n",
    "b = [ ','.join(map(lambda x: str(x), e)) + f\",{long_string}\\n\" for e in zip(*a)]\n",
    "\n",
    "with open(DATA, \"w\") as f:\n",
    "    f.write(''.join(b))"
   ]
  },
  {
   "cell_type": "code",
   "execution_count": 3,
   "metadata": {
    "id": "1aMC3Y6yryK-"
   },
   "outputs": [
    {
     "name": "stdout",
     "output_type": "stream",
     "text": [
      "head : \n",
      "3800875,197341,997143,58217,282194,127657,24795,----------------------------------------------------------------------------------------------------\n",
      "832669,1178778,1045166,127448,239496,4692,64360,----------------------------------------------------------------------------------------------------\n",
      "tail : \n",
      "2856992,1764808,837969,557654,167356,77205,50252,----------------------------------------------------------------------------------------------------\n",
      "2220043,99233,814405,414236,22558,146605,17644,----------------------------------------------------------------------------------------------------\n",
      "size (lines) :\n",
      " 5000000 data.csv\n"
     ]
    }
   ],
   "source": [
    "%%bash\n",
    "echo \"head : \"\n",
    "head -n 2 data.csv\n",
    "echo \"tail : \"\n",
    "tail -n 2 data.csv\n",
    "echo \"size (lines) :\"\n",
    "wc -l data.csv"
   ]
  },
  {
   "cell_type": "markdown",
   "metadata": {
    "id": "5gm8_3CY_odp"
   },
   "source": [
    "# Lecture séquentielle"
   ]
  },
  {
   "cell_type": "code",
   "execution_count": 4,
   "metadata": {
    "id": "nSX2XxLx_tBa"
   },
   "outputs": [
    {
     "name": "stdout",
     "output_type": "stream",
     "text": [
      "valeur recherchée : 4564\n",
      "ligne 96815 : 4564,473887,675094,287123,48563,132191,51086,----------------------------------------------------------------------------------------------------\n",
      "done in 3.253901958465576 s\n"
     ]
    }
   ],
   "source": [
    "def filtrer_fichier(fichier, valeur_recherchee):\n",
    "    with open(fichier, \"r\") as f:\n",
    "        for i, line in enumerate(f):\n",
    "            a = int(line.split(',')[0])\n",
    "            if a == s :\n",
    "                print(f\"ligne {i} :\", line.strip())\n",
    "\n",
    "\n",
    "s = np.random.randint(nb_valeurs_distinctes)\n",
    "print(\"valeur recherchée :\", s)\n",
    "\n",
    "t1 = time.time()\n",
    "filtrer_fichier(DATA, s)\n",
    "print(\"done in\", time.time() - t1, \"s\")"
   ]
  },
  {
   "cell_type": "markdown",
   "metadata": {
    "id": "qlmFE3aZTBWC"
   },
   "source": [
    "# Découper le fichier en pages"
   ]
  },
  {
   "cell_type": "code",
   "execution_count": 5,
   "metadata": {
    "id": "kOEddKG8PHDF"
   },
   "outputs": [
    {
     "name": "stdout",
     "output_type": "stream",
     "text": [
      "pages dans : data_pages\n",
      "nb pages créées : 5000\n"
     ]
    }
   ],
   "source": [
    "def page_dir_name(fichier):\n",
    "    return fichier.split('.')[0] + \"_pages\"\n",
    "\n",
    "def decoupe_fichier_en_pages(fichier, nb_tuple_par_page):\n",
    "    page_dir = page_dir_name(fichier)\n",
    "    print(\"pages dans :\", page_dir)\n",
    "    if(os.path.exists(page_dir)):\n",
    "        sh.rmtree(page_dir)\n",
    "    os.makedirs(page_dir, exist_ok=True)\n",
    "\n",
    "    with open(fichier, \"r\") as f:\n",
    "        p=0\n",
    "        lines = []\n",
    "        for i, line in enumerate(f):\n",
    "            lines.append(line)\n",
    "            if (i+1) % nb_tuple_par_page == 0:\n",
    "                p += 1\n",
    "                with open(page_dir + f\"/page{p}\", \"w\") as fp:\n",
    "                    fp.write(''.join(lines))\n",
    "                lines = []\n",
    "        if len(lines) > 0:\n",
    "            p +=1\n",
    "            with open(page_dir + f\"/page{p}\", \"w\") as fp:\n",
    "                fp.write(''.join(lines))\n",
    "    \n",
    "        print(\"nb pages créées :\", p)\n",
    "\n",
    "decoupe_fichier_en_pages(DATA, nb_tuple_par_page=1000)"
   ]
  },
  {
   "cell_type": "markdown",
   "metadata": {
    "id": "hqaml72_bXkj"
   },
   "source": [
    "Afficher le nombre de tuples dans une page (pour quelques pages)"
   ]
  },
  {
   "cell_type": "code",
   "execution_count": 6,
   "metadata": {
    "id": "qEX48QWEClJD"
   },
   "outputs": [
    {
     "name": "stdout",
     "output_type": "stream",
     "text": [
      "    1000 data_pages/page1\n",
      "    1000 data_pages/page10\n",
      "    1000 data_pages/page100\n"
     ]
    }
   ],
   "source": [
    "%%bash\n",
    "wc -l data_pages/* | head -n 3"
   ]
  },
  {
   "cell_type": "markdown",
   "metadata": {
    "id": "Y4XDZAmbcUQb"
   },
   "source": [
    "# Lecture séquentielle du fichier découpé en pages"
   ]
  },
  {
   "cell_type": "code",
   "execution_count": 8,
   "metadata": {
    "id": "fPVOrVpKccUG"
   },
   "outputs": [],
   "source": [
    "def lecture_sequentielle_par_page(fichier):\n",
    "    page_dir = page_dir_name(fichier)\n",
    "    nb_pages = len(os.listdir(page_dir))\n",
    "\n",
    "    # a faire : pour chaque page, lire ses lignes\n",
    "    for ip, page in enumerate(os.listdir(page_dir)):\n",
    "        # une ligne devient un tuple\n",
    "        with open(page_dir + \"/\" + page, 'r') as file:\n",
    "            for it, line in enumerate(file.readlines()):\n",
    "            # retourner un itérateur contenant le numéro de page, la position dans la page et le tuple\n",
    "                yield (ip, it, line)"
   ]
  },
  {
   "cell_type": "code",
   "execution_count": 14,
   "metadata": {},
   "outputs": [
    {
     "name": "stderr",
     "output_type": "stream",
     "text": [
      "5000000it [00:05, 947037.65it/s]"
     ]
    },
    {
     "name": "stdout",
     "output_type": "stream",
     "text": [
      "Noùmbre de pages lues : 5000\n",
      "Nombre de tuples lus : 5000000\n"
     ]
    },
    {
     "name": "stderr",
     "output_type": "stream",
     "text": [
      "\n"
     ]
    }
   ],
   "source": [
    "nb_p = 0\n",
    "nb_t = 0\n",
    "last_p = -1\n",
    "for (ip, it, line) in tqdm.tqdm(lecture_sequentielle_par_page(DATA)):\n",
    "    nb_t += 1\n",
    "    if last_p != ip: \n",
    "        last_p = ip\n",
    "        nb_p += 1\n",
    "print('Noùmbre de pages lues :', nb_p)\n",
    "print('Nombre de tuples lus :', nb_t)"
   ]
  },
  {
   "cell_type": "code",
   "execution_count": 15,
   "metadata": {},
   "outputs": [],
   "source": [
    "def filtrer_fichier_par_pages(fichier, valeur_recherchee):\n",
    "    # a faire pour chaque (numéro de page, position dans la page, tuple) obtnenu en invoquan la méthode ci dessus\n",
    "    for (ip, it, line) in lecture_sequentielle_par_page(fichier):\n",
    "        # convertir le 1er attribut en un nombre l'afficher si il est egal à la valeur recherchee\n",
    "        values = line.split(',')\n",
    "        att1 = int(values[0])\n",
    "        if att1 == valeur_recherchee:\n",
    "            print(att1)"
   ]
  },
  {
   "cell_type": "code",
   "execution_count": 17,
   "metadata": {},
   "outputs": [
    {
     "name": "stdout",
     "output_type": "stream",
     "text": [
      "valeur recherchée : 72969\n",
      "72969\n",
      "done in 6.5 s\n"
     ]
    }
   ],
   "source": [
    "s = np.random.randint(nb_valeurs_distinctes)\n",
    "print(\"valeur recherchée :\", s)\n",
    "\n",
    "t1 = time.time()\n",
    "filtrer_fichier_par_pages(DATA, s)\n",
    "print(\"done in\", round(time.time() - t1, 2), \"s\")"
   ]
  },
  {
   "cell_type": "markdown",
   "metadata": {
    "id": "UcmdLaQ5ruBJ"
   },
   "source": [
    "# Lecture d'un tuple dans une page"
   ]
  },
  {
   "cell_type": "code",
   "execution_count": 30,
   "metadata": {
    "id": "F4tYi4xCrxFG"
   },
   "outputs": [],
   "source": [
    "def lecture_tuple(fichier, num_page, position):\n",
    "    page_dir = page_dir_name(fichier)\n",
    "    nb_pages = len(os.listdir(page_dir_name(DATA)))\n",
    "    assert num_page < nb_pages\n",
    "    page = None\n",
    "    for i in range(nb_pages):\n",
    "        if int(os.listdir(page_dir_name(DATA))[i][4:]) == num_page:\n",
    "            page = os.listdir(page_dir_name(DATA))[i]\n",
    "            print(page)\n",
    "            break\n",
    "    with open(page_dir + \"/\" + page, 'r') as filep:\n",
    "        return filep.readlines()[position]"
   ]
  },
  {
   "cell_type": "code",
   "execution_count": 32,
   "metadata": {},
   "outputs": [
    {
     "name": "stdout",
     "output_type": "stream",
     "text": [
      "page100\n"
     ]
    },
    {
     "data": {
      "text/plain": [
       "'1483400,490295,910293,40978,155996,4719,56866,----------------------------------------------------------------------------------------------------\\n'"
      ]
     },
     "execution_count": 32,
     "metadata": {},
     "output_type": "execute_result"
    }
   ],
   "source": [
    "lecture_tuple(DATA, 100, 50)\n",
    "# 1483400,490295,910293,40978,155996,4719,56866"
   ]
  },
  {
   "cell_type": "markdown",
   "metadata": {
    "id": "5mD_xZjLxXLD"
   },
   "source": [
    "# Créer un index"
   ]
  },
  {
   "cell_type": "code",
   "execution_count": 45,
   "metadata": {
    "id": "Fhy4IJ0bxWHD"
   },
   "outputs": [
    {
     "name": "stdout",
     "output_type": "stream",
     "text": [
      "done in 7.72 s\n",
      "Taille de l index : 5000000\n"
     ]
    }
   ],
   "source": [
    "def creation_index_unique(fichier):\n",
    "    index = {}\n",
    "    page_dir = page_dir_name(fichier)\n",
    "    for page in os.listdir(page_dir):\n",
    "        ip = int(page[4:])\n",
    "        with open(page_dir + \"/\" + page, 'r') as file:\n",
    "            for it, line in enumerate(file.readlines()):\n",
    "                index[int(line.split(',')[0])] = (ip, it)\n",
    "    return index\n",
    "\n",
    "t1 = time.time()\n",
    "index1 = creation_index_unique(DATA)\n",
    "print(\"done in\", round(time.time() - t1, 2), \"s\")\n",
    "print('Taille de l index :', len(index1))"
   ]
  },
  {
   "cell_type": "markdown",
   "metadata": {
    "id": "-qA7hCef5Kfa"
   },
   "source": [
    "# Accès par index"
   ]
  },
  {
   "cell_type": "markdown",
   "metadata": {
    "id": "J0zrHPfGJjzm"
   },
   "source": [
    "## Index unique scan\n",
    "Accès pour rechercher les tuples dont le 1er attribut a une valeur donnée.\n",
    "\n",
    "On peut supposer pour simplifier que l'attribut est unique"
   ]
  },
  {
   "cell_type": "code",
   "execution_count": 46,
   "metadata": {
    "id": "PH3f5bz-5JTu"
   },
   "outputs": [],
   "source": [
    "def selection_par_index(index, valeur_recherchee):\n",
    "    return index.get(valeur_recherchee, None)"
   ]
  },
  {
   "cell_type": "code",
   "execution_count": 47,
   "metadata": {},
   "outputs": [
    {
     "name": "stdout",
     "output_type": "stream",
     "text": [
      "valeur recherchée : 68978\n",
      "Page : 2304\n",
      "Tuple : 625\n",
      "page2304\n",
      "68978,2182910,149076,36779,148292,112114,47231,----------------------------------------------------------------------------------------------------\n",
      "\n"
     ]
    }
   ],
   "source": [
    "s = np.random.randint(nb_valeurs_distinctes)\n",
    "print(\"valeur recherchée :\", s)\n",
    "\n",
    "ip, it = selection_par_index(index1, s)\n",
    "print('Page :', ip)\n",
    "print('Tuple :', it)\n",
    "print(lecture_tuple(DATA, ip, it))"
   ]
  },
  {
   "cell_type": "markdown",
   "metadata": {
    "id": "afvN2LWhJs0V"
   },
   "source": [
    "## Index range scan\n",
    "Accès pour rechercher les tuples dont le 1er attribut a une valeur comprise dans une intervalle donné"
   ]
  },
  {
   "cell_type": "code",
   "execution_count": 48,
   "metadata": {
    "id": "EGEO1PheSEdT"
   },
   "outputs": [],
   "source": [
    "def selection_par_index_plage(index, borne_inf, borne_sup):\n",
    "    rowid = []\n",
    "    for i in range(borne_inf, borne_sup + 1):\n",
    "        rowid.append(index.get(i, None))\n",
    "    return rowid"
   ]
  },
  {
   "cell_type": "code",
   "execution_count": 49,
   "metadata": {
    "id": "UEKExgGfKRUs"
   },
   "outputs": [
    {
     "name": "stdout",
     "output_type": "stream",
     "text": [
      "page4226\n",
      "(4226, 638) : 43514,1288396,631554,528962,17537,95800,49807,----------------------------------------------------------------------------------------------------\n",
      "\n",
      "page3086\n",
      "(3086, 209) : 43515,2194131,1128265,160038,179964,150984,11234,----------------------------------------------------------------------------------------------------\n",
      "\n",
      "page3738\n",
      "(3738, 919) : 43516,2272190,889051,436988,192265,129457,69934,----------------------------------------------------------------------------------------------------\n",
      "\n",
      "page4865\n",
      "(4865, 751) : 43517,2182390,864896,123282,9575,64001,47653,----------------------------------------------------------------------------------------------------\n",
      "\n",
      "page3293\n",
      "(3293, 602) : 43518,2086956,135441,249415,109379,55824,76018,----------------------------------------------------------------------------------------------------\n",
      "\n",
      "page4499\n",
      "(4499, 301) : 43519,1404955,933659,371681,56688,137967,67596,----------------------------------------------------------------------------------------------------\n",
      "\n",
      "page1006\n",
      "(1006, 787) : 43520,281335,310948,85385,46546,97773,35045,----------------------------------------------------------------------------------------------------\n",
      "\n",
      "page4820\n",
      "(4820, 203) : 43521,2312639,839299,420411,110839,55723,60220,----------------------------------------------------------------------------------------------------\n",
      "\n",
      "page4169\n",
      "(4169, 887) : 43522,1758392,1013933,422216,303565,122543,55644,----------------------------------------------------------------------------------------------------\n",
      "\n",
      "page1732\n",
      "(1732, 239) : 43523,379720,624781,408424,167138,115752,57509,----------------------------------------------------------------------------------------------------\n",
      "\n",
      "page4255\n",
      "(4255, 642) : 43524,395011,32882,301837,12097,93713,25217,----------------------------------------------------------------------------------------------------\n",
      "\n",
      "page1647\n",
      "(1647, 634) : 43525,2228937,200837,12472,286947,41373,11117,----------------------------------------------------------------------------------------------------\n",
      "\n",
      "page219\n",
      "(219, 729) : 43526,1736615,411937,45289,259243,79585,9234,----------------------------------------------------------------------------------------------------\n",
      "\n",
      "page15\n",
      "(15, 660) : 43527,1627975,324845,145675,307318,84167,63016,----------------------------------------------------------------------------------------------------\n",
      "\n",
      "page813\n",
      "(813, 616) : 43528,1539181,857558,388023,169887,127019,52767,----------------------------------------------------------------------------------------------------\n",
      "\n",
      "page4351\n",
      "(4351, 371) : 43529,676919,652336,478874,93829,125550,67438,----------------------------------------------------------------------------------------------------\n",
      "\n",
      "page2694\n",
      "(2694, 194) : 43530,2338459,788872,448535,119387,122888,7770,----------------------------------------------------------------------------------------------------\n",
      "\n"
     ]
    }
   ],
   "source": [
    "rowid = selection_par_index_plage(index1, 43514, 43530)\n",
    "for ri in rowid:\n",
    "    if ri is None: continue\n",
    "    print(ri, ':', lecture_tuple(DATA, *ri))"
   ]
  },
  {
   "cell_type": "markdown",
   "metadata": {
    "id": "7Rjm99DrKR8t"
   },
   "source": [
    "# Mise à jour de données\n",
    "\n",
    "\n"
   ]
  },
  {
   "cell_type": "markdown",
   "metadata": {
    "id": "7np5NI8OKK6z"
   },
   "source": [
    "## Sélectionner un tuple et modifier un de ses attributs\n",
    "\n"
   ]
  },
  {
   "cell_type": "code",
   "execution_count": 55,
   "metadata": {
    "id": "RCRwCGlwKlEK"
   },
   "outputs": [
    {
     "name": "stdout",
     "output_type": "stream",
     "text": [
      "page2694\n"
     ]
    }
   ],
   "source": [
    "ip, it = index1[43530]\n",
    "page_dir = page_dir_name(DATA)\n",
    "nb_pages = len(os.listdir(page_dir))\n",
    "page = None\n",
    "for i in range(nb_pages):\n",
    "    if int(os.listdir(page_dir_name(DATA))[i][4:]) == ip:\n",
    "        page = os.listdir(page_dir_name(DATA))[i]\n",
    "        print(page)\n",
    "        break\n",
    "file = open(page_dir + \"/\" + page, \"r+\")\n",
    "lines = file.readlines()\n",
    "atts = lines[it].split(',')\n",
    "atts[0] = '11111111'\n",
    "lines[it] = ','.join(atts)\n",
    "file.seek(0)\n",
    "file.writelines(lines)\n",
    "file.close()"
   ]
  },
  {
   "cell_type": "markdown",
   "metadata": {
    "id": "8zAZws5_KaL8"
   },
   "source": [
    "##Modifier l'index en conséquence lorsque l'attibut modifié est indexé\n"
   ]
  },
  {
   "cell_type": "code",
   "execution_count": 56,
   "metadata": {
    "id": "3_dcGN_dKaya"
   },
   "outputs": [],
   "source": [
    "index1[11111111] = (ip, it)\n",
    "del index1[43530]"
   ]
  },
  {
   "cell_type": "code",
   "execution_count": 57,
   "metadata": {},
   "outputs": [
    {
     "name": "stdout",
     "output_type": "stream",
     "text": [
      "page2694\n"
     ]
    },
    {
     "data": {
      "text/plain": [
       "'11111111,2338459,788872,448535,119387,122888,7770,----------------------------------------------------------------------------------------------------\\n'"
      ]
     },
     "execution_count": 57,
     "metadata": {},
     "output_type": "execute_result"
    }
   ],
   "source": [
    "lecture_tuple(DATA, ip, it)"
   ]
  },
  {
   "cell_type": "markdown",
   "metadata": {
    "id": "as_W7xmOKc3l"
   },
   "source": [
    "# Persistence\n",
    "\n"
   ]
  },
  {
   "cell_type": "markdown",
   "metadata": {
    "id": "Uy8NE3x5KgLj"
   },
   "source": [
    "## Stocker un index (dans plusieurs pages) pour le reconstruire plus rapidement\n"
   ]
  },
  {
   "cell_type": "code",
   "execution_count": 66,
   "metadata": {
    "id": "VqSClCOgKl6a"
   },
   "outputs": [
    {
     "name": "stdout",
     "output_type": "stream",
     "text": [
      "index dans : data_index\n",
      "Nombre de pages d index : 5000\n"
     ]
    }
   ],
   "source": [
    "def index_dir_name(fichier):\n",
    "    return fichier.split('.')[0] + \"_index\"\n",
    "\n",
    "def decoupe_index_en_pages(fichier, nb_tuple_par_page):\n",
    "    index_dir = index_dir_name(fichier)\n",
    "    index = creation_index_unique(fichier)\n",
    "    print(\"index dans :\", index_dir)\n",
    "    if(os.path.exists(index_dir)):\n",
    "        sh.rmtree(index_dir)\n",
    "    os.makedirs(index_dir, exist_ok=True)\n",
    "    \n",
    "    items = list(index.items())\n",
    "    items.sort()\n",
    "    nb_i = len(items)\n",
    "    \n",
    "    nb_t = 0\n",
    "    index_n = 0\n",
    "    for i in range(nb_tuple_par_page, nb_i, nb_tuple_par_page):\n",
    "        index_n += 1\n",
    "        a = items[i - nb_tuple_par_page : i]\n",
    "        lines = list(map(lambda x: ','.join([str(x[0]), str(x[1][0]), str(x[1][1])]) + '\\n', a))\n",
    "        # nouveau fichier\n",
    "        with open(index_dir + \"/index\" + str(index_n), 'w') as fi:\n",
    "            fi.write(''.join(lines))\n",
    "        nb_t += nb_tuple_par_page\n",
    "    # prise en compte des index restants -> page non pleine\n",
    "    if nb_t < nb_i:\n",
    "        index_n += 1\n",
    "        a = items[nb_t :]\n",
    "        lines = list(map(lambda x: ','.join([str(x[0]), str(x[1][0]), str(x[1][1])]) + '\\n', a))\n",
    "        # nouveau fichier\n",
    "        with open(index_dir + \"/index\" + str(index_n), 'w') as fi:\n",
    "            fi.write(''.join(lines))\n",
    "        nb_t = nb_i\n",
    "        \n",
    "    print('Nombre de pages d index :', index_n)\n",
    "\n",
    "decoupe_index_en_pages(DATA, nb_tuple_par_page=1000)"
   ]
  },
  {
   "cell_type": "markdown",
   "metadata": {
    "id": "SzDPXcGzKjKU"
   },
   "source": [
    "## Adapter en conséquence les opérations de modification de l'index"
   ]
  },
  {
   "cell_type": "code",
   "execution_count": 81,
   "metadata": {
    "id": "y9mXqJeFKmUE"
   },
   "outputs": [],
   "source": [
    "def selection_par_index2(fichier, valeur_recherchee, nb_tuple_par_page=1000):\n",
    "    index_dir = index_dir_name(fichier)\n",
    "    index_n = (valeur_recherchee // nb_tuple_par_page) + 1\n",
    "    \n",
    "    ip = -1\n",
    "    it = -1\n",
    "    with open(index_dir + \"/index\" + str(index_n), 'r') as fi:\n",
    "        for line in fi.readlines():\n",
    "            values = line.split(',')\n",
    "            key = int(values[0])\n",
    "            if key == valeur_recherchee:\n",
    "                ip = int(values[1])\n",
    "                it = int(values[2]) \n",
    "                break\n",
    "                \n",
    "    return (ip, it)"
   ]
  },
  {
   "cell_type": "code",
   "execution_count": 82,
   "metadata": {},
   "outputs": [
    {
     "name": "stdout",
     "output_type": "stream",
     "text": [
      "valeur recherchée : 26925\n",
      "Page : 1937\n",
      "Tuple : 986\n",
      "page1937\n",
      "26925,621439,918202,426466,61097,129592,20608,----------------------------------------------------------------------------------------------------\n",
      "\n"
     ]
    }
   ],
   "source": [
    "s = np.random.randint(nb_valeurs_distinctes)\n",
    "print(\"valeur recherchée :\", s)\n",
    "\n",
    "ip, it = selection_par_index2(DATA, s)\n",
    "print('Page :', ip)\n",
    "print('Tuple :', it)\n",
    "if ip != -1:\n",
    "    print(lecture_tuple(DATA, ip, it))"
   ]
  },
  {
   "cell_type": "code",
   "execution_count": 96,
   "metadata": {},
   "outputs": [],
   "source": [
    "def selection_par_index_plage2(fichier, borne_inf, borne_sup, nb_tuple_par_page=1000):\n",
    "    index_dir = index_dir_name(fichier)\n",
    "    rowid = []\n",
    "    \n",
    "    index_inf = (borne_inf // nb_tuple_par_page) + 1\n",
    "    index_sup = (borne_sup // nb_tuple_par_page) + 1\n",
    "    \n",
    "    for index_n in range(index_inf, index_sup + 1):\n",
    "        ip = -1\n",
    "        it = -1\n",
    "        with open(index_dir + \"/index\" + str(index_n), 'r') as fi:\n",
    "            for line in fi.readlines():\n",
    "                values = line.split(',')\n",
    "                key = int(values[0])\n",
    "                if borne_inf <= key <= borne_sup :\n",
    "                    ip = int(values[1])\n",
    "                    it = int(values[2])\n",
    "                    rowid.append((ip, it))\n",
    "                if key > borne_sup:\n",
    "                    break\n",
    "        \n",
    "    return rowid"
   ]
  },
  {
   "cell_type": "code",
   "execution_count": 97,
   "metadata": {},
   "outputs": [
    {
     "name": "stdout",
     "output_type": "stream",
     "text": [
      "page4226\n",
      "(4226, 638) : 43514,1288396,631554,528962,17537,95800,49807,----------------------------------------------------------------------------------------------------\n",
      "\n",
      "page3086\n",
      "(3086, 209) : 43515,2194131,1128265,160038,179964,150984,11234,----------------------------------------------------------------------------------------------------\n",
      "\n",
      "page3738\n",
      "(3738, 919) : 43516,2272190,889051,436988,192265,129457,69934,----------------------------------------------------------------------------------------------------\n",
      "\n",
      "page4865\n",
      "(4865, 751) : 43517,2182390,864896,123282,9575,64001,47653,----------------------------------------------------------------------------------------------------\n",
      "\n",
      "page3293\n",
      "(3293, 602) : 43518,2086956,135441,249415,109379,55824,76018,----------------------------------------------------------------------------------------------------\n",
      "\n",
      "page4499\n",
      "(4499, 301) : 43519,1404955,933659,371681,56688,137967,67596,----------------------------------------------------------------------------------------------------\n",
      "\n",
      "page1006\n",
      "(1006, 787) : 43520,281335,310948,85385,46546,97773,35045,----------------------------------------------------------------------------------------------------\n",
      "\n",
      "page4820\n",
      "(4820, 203) : 43521,2312639,839299,420411,110839,55723,60220,----------------------------------------------------------------------------------------------------\n",
      "\n",
      "page4169\n",
      "(4169, 887) : 43522,1758392,1013933,422216,303565,122543,55644,----------------------------------------------------------------------------------------------------\n",
      "\n",
      "page1732\n",
      "(1732, 239) : 43523,379720,624781,408424,167138,115752,57509,----------------------------------------------------------------------------------------------------\n",
      "\n",
      "page4255\n",
      "(4255, 642) : 43524,395011,32882,301837,12097,93713,25217,----------------------------------------------------------------------------------------------------\n",
      "\n",
      "page1647\n",
      "(1647, 634) : 43525,2228937,200837,12472,286947,41373,11117,----------------------------------------------------------------------------------------------------\n",
      "\n",
      "page219\n",
      "(219, 729) : 43526,1736615,411937,45289,259243,79585,9234,----------------------------------------------------------------------------------------------------\n",
      "\n",
      "page15\n",
      "(15, 660) : 43527,1627975,324845,145675,307318,84167,63016,----------------------------------------------------------------------------------------------------\n",
      "\n",
      "page813\n",
      "(813, 616) : 43528,1539181,857558,388023,169887,127019,52767,----------------------------------------------------------------------------------------------------\n",
      "\n",
      "page4351\n",
      "(4351, 371) : 43529,676919,652336,478874,93829,125550,67438,----------------------------------------------------------------------------------------------------\n",
      "\n"
     ]
    }
   ],
   "source": [
    "rowid = selection_par_index_plage2(DATA, 43514, 43529)\n",
    "for ri in rowid:\n",
    "    if ri[0] == -1: continue\n",
    "    print(ri, ':', lecture_tuple(DATA, *ri))"
   ]
  },
  {
   "cell_type": "code",
   "execution_count": null,
   "metadata": {},
   "outputs": [],
   "source": []
  }
 ],
 "metadata": {
  "colab": {
   "provenance": []
  },
  "kernelspec": {
   "display_name": "Python 3 (ipykernel)",
   "language": "python",
   "name": "python3"
  },
  "language_info": {
   "codemirror_mode": {
    "name": "ipython",
    "version": 3
   },
   "file_extension": ".py",
   "mimetype": "text/x-python",
   "name": "python",
   "nbconvert_exporter": "python",
   "pygments_lexer": "ipython3",
   "version": "3.9.13"
  }
 },
 "nbformat": 4,
 "nbformat_minor": 1
}
